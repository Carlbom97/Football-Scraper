{
 "cells": [
  {
   "cell_type": "code",
   "execution_count": 25,
   "metadata": {},
   "outputs": [],
   "source": [
    "import requests"
   ]
  },
  {
   "cell_type": "code",
   "execution_count": 26,
   "metadata": {},
   "outputs": [],
   "source": [
    "start_game_url = \"https://www.fotmob.com/api/matchDetails?matchId=\""
   ]
  },
  {
   "cell_type": "code",
   "execution_count": 27,
   "metadata": {},
   "outputs": [],
   "source": [
    "game_url = start_game_url + str(4193499)\n",
    "fot_res = requests.get(game_url)\n",
    "jasondata = fot_res.json()"
   ]
  },
  {
   "cell_type": "code",
   "execution_count": 28,
   "metadata": {},
   "outputs": [],
   "source": [
    "stats = {}\n",
    "                    \n",
    "match_id = jasondata['general']['matchId']\n",
    "date = jasondata['general']['matchTimeUTCDate'].split(\"T\")[0]\n",
    "League = jasondata['general']['parentLeagueName']\n",
    "Country = jasondata['general']['countryCode']\n",
    "HomeTeam = jasondata['general']['homeTeam']['name'].replace(\"'\",\" \")\n",
    "AwayTeam = jasondata['general']['awayTeam']['name'].replace(\"'\",\" \")\n",
    "HGoals = jasondata['header']['teams'][0]['score']\n",
    "AGoals = jasondata['header']['teams'][1]['score']"
   ]
  },
  {
   "cell_type": "code",
   "execution_count": 29,
   "metadata": {},
   "outputs": [],
   "source": [
    "for i in range(0,100):\n",
    "            for j in range(0, 100):\n",
    "                try:\n",
    "                    stat_name = jasondata['content']['stats']['Periods']['All']['stats'][i]['stats'][j]['key']\n",
    "                    home_stat = jasondata['content']['stats']['Periods']['All']['stats'][i]['stats'][j]['stats'][0]\n",
    "                    away_stat = jasondata['content']['stats']['Periods']['All']['stats'][i]['stats'][j]['stats'][1]\n",
    "\n",
    "                    stats[\"Home\" + stat_name.replace(\" \",\"\")] = home_stat\n",
    "                    stats[\"Away\" + stat_name.replace(\" \",\"\")] = away_stat\n",
    "                except:\n",
    "                    pass"
   ]
  },
  {
   "cell_type": "code",
   "execution_count": 31,
   "metadata": {},
   "outputs": [],
   "source": [
    "HomeDuelsW = int(stats['Homeground_duels_won'].split(\" \")[0]) + int(stats['Homeaerials_won'].split(\" \")[0])"
   ]
  },
  {
   "cell_type": "code",
   "execution_count": 32,
   "metadata": {},
   "outputs": [
    {
     "data": {
      "text/plain": [
       "54"
      ]
     },
     "execution_count": 32,
     "metadata": {},
     "output_type": "execute_result"
    }
   ],
   "source": [
    "HomeDuelsW"
   ]
  },
  {
   "cell_type": "code",
   "execution_count": 33,
   "metadata": {},
   "outputs": [
    {
     "data": {
      "text/plain": [
       "{'HomeBallPossesion': 45,\n",
       " 'AwayBallPossesion': 55,\n",
       " 'Homeexpected_goals': '1.19',\n",
       " 'Awayexpected_goals': '2.59',\n",
       " 'Hometotal_shots': 13,\n",
       " 'Awaytotal_shots': 16,\n",
       " 'Homebig_chance': 3,\n",
       " 'Awaybig_chance': 4,\n",
       " 'Homebig_chance_missed_title': 3,\n",
       " 'Awaybig_chance_missed_title': 2,\n",
       " 'Homeaccurate_passes': '286 (74%)',\n",
       " 'Awayaccurate_passes': '349 (76%)',\n",
       " 'Homefouls': 11,\n",
       " 'Awayfouls': 13,\n",
       " 'HomeOffsides': 1,\n",
       " 'AwayOffsides': 2,\n",
       " 'Homecorners': 4,\n",
       " 'Awaycorners': 6,\n",
       " 'Homeshots': None,\n",
       " 'Awayshots': None,\n",
       " 'HomeShotsOffTarget': 4,\n",
       " 'AwayShotsOffTarget': 3,\n",
       " 'HomeShotsOnTarget': 8,\n",
       " 'AwayShotsOnTarget': 6,\n",
       " 'Homeblocked_shots': 1,\n",
       " 'Awayblocked_shots': 7,\n",
       " 'Homeshots_woodwork': 1,\n",
       " 'Awayshots_woodwork': 0,\n",
       " 'Homeshots_inside_box': 11,\n",
       " 'Awayshots_inside_box': 10,\n",
       " 'Homeshots_outside_box': 2,\n",
       " 'Awayshots_outside_box': 6,\n",
       " 'Homeexpected_goals_open_play': '0.71',\n",
       " 'Awayexpected_goals_open_play': '1.37',\n",
       " 'Homeexpected_goals_set_play': '0.48',\n",
       " 'Awayexpected_goals_set_play': '1.22',\n",
       " 'Homeexpected_goals_non_penalty': '1.19',\n",
       " 'Awayexpected_goals_non_penalty': '2.59',\n",
       " 'Homeexpected_goals_on_target': '1.98',\n",
       " 'Awayexpected_goals_on_target': '3.68',\n",
       " 'Homepasses': 384,\n",
       " 'Awaypasses': 459,\n",
       " 'Homeown_half_passes': 180,\n",
       " 'Awayown_half_passes': 170,\n",
       " 'Homeopposition_half_passes': 106,\n",
       " 'Awayopposition_half_passes': 179,\n",
       " 'Homelong_balls_accurate': '25 (38%)',\n",
       " 'Awaylong_balls_accurate': '26 (44%)',\n",
       " 'Homeaccurate_crosses': '4 (29%)',\n",
       " 'Awayaccurate_crosses': '5 (21%)',\n",
       " 'Homeplayer_throws': 27,\n",
       " 'Awayplayer_throws': 26,\n",
       " 'Homedefense': None,\n",
       " 'Awaydefense': None,\n",
       " 'Hometackles_succeeded': '9 (56%)',\n",
       " 'Awaytackles_succeeded': '18 (78%)',\n",
       " 'Homeinterceptions': 11,\n",
       " 'Awayinterceptions': 7,\n",
       " 'Homeshot_blocks': 6,\n",
       " 'Awayshot_blocks': 2,\n",
       " 'Homeclearances': 37,\n",
       " 'Awayclearances': 17,\n",
       " 'Homekeeper_saves': 4,\n",
       " 'Awaykeeper_saves': 6,\n",
       " 'Homeduels': None,\n",
       " 'Awayduels': None,\n",
       " 'Homeduel_won': 54,\n",
       " 'Awayduel_won': 63,\n",
       " 'Homeground_duels_won': '34 (44%)',\n",
       " 'Awayground_duels_won': '44 (56%)',\n",
       " 'Homeaerials_won': '20 (51%)',\n",
       " 'Awayaerials_won': '19 (49%)',\n",
       " 'Homedribbles_succeeded': '7 (44%)',\n",
       " 'Awaydribbles_succeeded': '10 (53%)',\n",
       " 'Homediscipline': None,\n",
       " 'Awaydiscipline': None,\n",
       " 'Homeyellow_cards': 1,\n",
       " 'Awayyellow_cards': 2,\n",
       " 'Homered_cards': 0,\n",
       " 'Awayred_cards': 0}"
      ]
     },
     "execution_count": 33,
     "metadata": {},
     "output_type": "execute_result"
    }
   ],
   "source": [
    "stats"
   ]
  },
  {
   "cell_type": "code",
   "execution_count": null,
   "metadata": {},
   "outputs": [],
   "source": []
  }
 ],
 "metadata": {
  "kernelspec": {
   "display_name": "Python 3",
   "language": "python",
   "name": "python3"
  },
  "language_info": {
   "codemirror_mode": {
    "name": "ipython",
    "version": 3
   },
   "file_extension": ".py",
   "mimetype": "text/x-python",
   "name": "python",
   "nbconvert_exporter": "python",
   "pygments_lexer": "ipython3",
   "version": "3.10.3"
  },
  "orig_nbformat": 4
 },
 "nbformat": 4,
 "nbformat_minor": 2
}
