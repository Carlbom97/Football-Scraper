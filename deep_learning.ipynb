{
 "cells": [
  {
   "cell_type": "code",
   "execution_count": 1,
   "metadata": {},
   "outputs": [],
   "source": [
    "import sqlite3\n",
    "import pandas as pd\n",
    "import numpy as np\n",
    "import tensorflow\n",
    "from sklearn.model_selection import train_test_split\n",
    "import matplotlib.pyplot as plt"
   ]
  },
  {
   "cell_type": "code",
   "execution_count": 2,
   "metadata": {},
   "outputs": [],
   "source": [
    "conn = sqlite3.connect('MatchDB.db')\n",
    "df = pd.read_sql_query(\"SELECT * FROM Games\", \n",
    "                       conn)"
   ]
  },
  {
   "cell_type": "code",
   "execution_count": 3,
   "metadata": {},
   "outputs": [],
   "source": [
    "df = df.drop(['HomeTeam', 'AwayTeam', 'League', 'Country', 'date', 'id', 'match_id', 'HomexG', 'AwayxG'], axis=1)\n",
    "# df = df.drop(['AwayPoss', 'AwayShots', 'AwaySonT', 'AwaySoffT', 'AwayBS', 'AwayCor', 'AwayOff', 'AwayFoul', 'AwayYellow', 'AwayPass', 'AwayAccPass', 'AwayPassOff', 'AwayAccLongB', 'AwayAccLongBpercent', 'AwayAccCross', 'AwayAccCrosspercent', 'AwaySuccDribb', 'AwaySuccDribbpercent', 'AwayDuelsW', 'AwayTackW', 'AwayTackWpercent', 'AwayInt', 'AwayClear'], axis= 1)\n",
    "df = df.dropna()"
   ]
  },
  {
   "cell_type": "code",
   "execution_count": 4,
   "metadata": {},
   "outputs": [],
   "source": [
    "def compare_values(row):\n",
    "    if row['HGoals'] > row['AGoals']:\n",
    "        return 0\n",
    "    elif row['AGoals'] > row['HGoals']:\n",
    "        return 1\n",
    "    else:\n",
    "        return 2\n",
    "    \n",
    "df['Winner'] = df.apply(compare_values, axis= 1)"
   ]
  },
  {
   "cell_type": "code",
   "execution_count": 5,
   "metadata": {},
   "outputs": [],
   "source": [
    "from tensorflow.keras.utils import to_categorical \n",
    "prediction = df.drop(['HGoals', 'AGoals'], axis=1).astype(float)\n",
    "target_1 = df['Winner'].astype(float)\n",
    "\n",
    "target_1 = to_categorical(target_1)\n",
    "\n",
    "X_train, X_test, y_train, y_test = train_test_split(prediction, target_1, test_size=0.2, random_state=42)"
   ]
  },
  {
   "cell_type": "code",
   "execution_count": 6,
   "metadata": {},
   "outputs": [],
   "source": [
    "import tensorflow\n",
    "from tensorflow.keras.models import Sequential\n",
    "from tensorflow.keras.layers import Dense\n",
    "from tensorflow.keras.layers import Dropout\n",
    "from tensorflow.keras.callbacks import EarlyStopping\n",
    "from tensorflow.keras.layers import BatchNormalization\n",
    "from tensorflow.keras.optimizers import Adam"
   ]
  },
  {
   "cell_type": "code",
   "execution_count": 7,
   "metadata": {},
   "outputs": [],
   "source": [
    "n_cols = len(X_train.columns)\n",
    "input_shape = (n_cols,)"
   ]
  },
  {
   "cell_type": "code",
   "execution_count": 8,
   "metadata": {},
   "outputs": [],
   "source": [
    "\n",
    "# y_train = to_categorical(y_train)\n",
    "# y_test = to_categorical(y_test)"
   ]
  },
  {
   "cell_type": "code",
   "execution_count": 9,
   "metadata": {},
   "outputs": [
    {
     "name": "stdout",
     "output_type": "stream",
     "text": [
      "Epoch 1/500\n",
      "577/577 [==============================] - 6s 6ms/step - loss: 0.8185 - accuracy: 0.6081 - val_loss: 0.7959 - val_accuracy: 0.6392\n",
      "Epoch 2/500\n",
      "577/577 [==============================] - 2s 3ms/step - loss: 0.1493 - accuracy: 0.9463 - val_loss: 0.0649 - val_accuracy: 0.9987\n",
      "Epoch 3/500\n",
      "577/577 [==============================] - 2s 3ms/step - loss: 0.0766 - accuracy: 0.9720 - val_loss: 1.6732 - val_accuracy: 0.5140\n",
      "Epoch 4/500\n",
      "577/577 [==============================] - 2s 4ms/step - loss: 0.0488 - accuracy: 0.9833 - val_loss: 0.0170 - val_accuracy: 0.9952\n",
      "Epoch 5/500\n",
      "577/577 [==============================] - 2s 3ms/step - loss: 0.0492 - accuracy: 0.9838 - val_loss: 0.0230 - val_accuracy: 0.9924\n",
      "Epoch 6/500\n",
      "577/577 [==============================] - 2s 3ms/step - loss: 0.0341 - accuracy: 0.9882 - val_loss: 0.0157 - val_accuracy: 0.9959\n",
      "Epoch 7/500\n",
      "577/577 [==============================] - 2s 3ms/step - loss: 0.0278 - accuracy: 0.9916 - val_loss: 0.0025 - val_accuracy: 1.0000\n",
      "Epoch 8/500\n",
      "577/577 [==============================] - 2s 4ms/step - loss: 0.0183 - accuracy: 0.9939 - val_loss: 0.0682 - val_accuracy: 0.9731\n",
      "Epoch 9/500\n",
      "577/577 [==============================] - 2s 4ms/step - loss: 0.0364 - accuracy: 0.9884 - val_loss: 0.1219 - val_accuracy: 0.9502\n",
      "Epoch 10/500\n",
      "577/577 [==============================] - 2s 4ms/step - loss: 0.0108 - accuracy: 0.9967 - val_loss: 0.0063 - val_accuracy: 0.9978\n",
      "Epoch 11/500\n",
      "577/577 [==============================] - 2s 4ms/step - loss: 0.0232 - accuracy: 0.9923 - val_loss: 0.0012 - val_accuracy: 0.9996\n",
      "Epoch 12/500\n",
      "577/577 [==============================] - 2s 3ms/step - loss: 0.0062 - accuracy: 0.9984 - val_loss: 0.0305 - val_accuracy: 0.9933\n",
      "Epoch 13/500\n",
      "577/577 [==============================] - 3s 5ms/step - loss: 0.0172 - accuracy: 0.9941 - val_loss: 0.3655 - val_accuracy: 0.8830\n",
      "Epoch 14/500\n",
      "577/577 [==============================] - 2s 4ms/step - loss: 0.0158 - accuracy: 0.9953 - val_loss: 0.0021 - val_accuracy: 0.9993\n",
      "Epoch 15/500\n",
      "577/577 [==============================] - 2s 4ms/step - loss: 0.0072 - accuracy: 0.9978 - val_loss: 7.3564e-05 - val_accuracy: 1.0000\n",
      "Epoch 16/500\n",
      "577/577 [==============================] - 2s 4ms/step - loss: 0.0128 - accuracy: 0.9958 - val_loss: 0.0169 - val_accuracy: 0.9950\n",
      "Epoch 17/500\n",
      "577/577 [==============================] - 2s 4ms/step - loss: 5.9086e-04 - accuracy: 1.0000 - val_loss: 4.0390e-05 - val_accuracy: 1.0000\n",
      "Epoch 18/500\n",
      "577/577 [==============================] - 3s 4ms/step - loss: 0.0107 - accuracy: 0.9965 - val_loss: 7.0898e-04 - val_accuracy: 1.0000\n",
      "Epoch 19/500\n",
      "577/577 [==============================] - 3s 5ms/step - loss: 0.0091 - accuracy: 0.9970 - val_loss: 0.0042 - val_accuracy: 0.9987\n",
      "Epoch 20/500\n",
      "577/577 [==============================] - 2s 3ms/step - loss: 0.0162 - accuracy: 0.9949 - val_loss: 0.0026 - val_accuracy: 0.9991\n",
      "Epoch 21/500\n",
      "577/577 [==============================] - 2s 4ms/step - loss: 0.0078 - accuracy: 0.9971 - val_loss: 0.0337 - val_accuracy: 0.9889\n",
      "Epoch 22/500\n",
      "577/577 [==============================] - 3s 5ms/step - loss: 0.0087 - accuracy: 0.9971 - val_loss: 0.6034 - val_accuracy: 0.7742\n"
     ]
    }
   ],
   "source": [
    "lr_schedule = tensorflow.keras.optimizers.schedules.ExponentialDecay(\n",
    "    initial_learning_rate=1e-2,\n",
    "    decay_steps=10000,\n",
    "    decay_rate=0.9)\n",
    "\n",
    "optimizer = tensorflow.keras.optimizers.Adam(learning_rate=lr_schedule)\n",
    "\n",
    "model = Sequential()\n",
    "\n",
    "model.add(Dense(250, activation = 'relu', input_shape = input_shape))\n",
    "model.add(BatchNormalization())\n",
    "model.add(Dense(200, activation = 'relu'))\n",
    "model.add(BatchNormalization())\n",
    "model.add(Dense(100, activation = 'relu'))\n",
    "model.add(BatchNormalization())\n",
    "model.add(Dense(50, activation = 'relu'))\n",
    "model.add(BatchNormalization())\n",
    "model.add(Dense(3, activation = 'sigmoid'))\n",
    "\n",
    "early_stopping = EarlyStopping(monitor = 'val_loss', patience = 5)\n",
    "\n",
    "model.compile(optimizer = 'adam', loss = 'categorical_crossentropy', metrics = ['accuracy'])\n",
    "hist = model.fit(X_train, y_train,\n",
    "                 validation_split = 0.2,\n",
    "                 epochs = 500,\n",
    "                 callbacks = [early_stopping]\n",
    "                )"
   ]
  },
  {
   "cell_type": "code",
   "execution_count": 10,
   "metadata": {},
   "outputs": [
    {
     "name": "stdout",
     "output_type": "stream",
     "text": [
      "181/181 [==============================] - 0s 2ms/step - loss: 0.5708 - accuracy: 0.7800\n"
     ]
    }
   ],
   "source": [
    "result = model.evaluate(X_test, y_test)"
   ]
  },
  {
   "cell_type": "code",
   "execution_count": 11,
   "metadata": {},
   "outputs": [
    {
     "data": {
      "text/plain": [
       "<matplotlib.legend.Legend at 0x2de1efa28d0>"
      ]
     },
     "execution_count": 11,
     "metadata": {},
     "output_type": "execute_result"
    },
    {
     "data": {
      "image/png": "[encoded data removed]",
      "text/plain": [
       "<Figure size 640x480 with 1 Axes>"
      ]
     },
     "metadata": {},
     "output_type": "display_data"
    }
   ],
   "source": [
    "plt.plot(np.sqrt(hist.history['accuracy']), 'r', label='Training accuracy')\n",
    "plt.plot(np.sqrt(hist.history['val_accuracy']), 'b', label='val_accuracy')\n",
    "plt.xlabel('Epochs')\n",
    "plt.ylabel('Validation Loss')\n",
    "plt.legend()"
   ]
  },
  {
   "cell_type": "code",
   "execution_count": 12,
   "metadata": {},
   "outputs": [
    {
     "name": "stdout",
     "output_type": "stream",
     "text": [
      "[0.6080949306488037, 0.9462505578994751, 0.9720416069030762, 0.9832574725151062, 0.9837992787361145, 0.9882423281669617, 0.9916016459465027, 0.9939315319061279, 0.9883506894111633, 0.9966948628425598, 0.9923060536384583, 0.9983745217323303, 0.9941482543945312, 0.9953402876853943, 0.9977784752845764, 0.9958279132843018, 1.0, 0.9965323209762573, 0.996965765953064, 0.994852602481842, 0.9970741271972656, 0.9971283078193665]\n",
      "1.0\n"
     ]
    }
   ],
   "source": [
    "print(hist.history['accuracy'])\n",
    "best_score = max(hist.history['accuracy'])\n",
    "# best_score2 = min(hist.history['val_loss'])\n",
    "print(best_score)\n",
    "\n",
    "\n"
   ]
  },
  {
   "cell_type": "code",
   "execution_count": 13,
   "metadata": {},
   "outputs": [
    {
     "name": "stdout",
     "output_type": "stream",
     "text": [
      "(5768, 3)\n"
     ]
    }
   ],
   "source": [
    "print(y_test.shape)"
   ]
  },
  {
   "cell_type": "code",
   "execution_count": 14,
   "metadata": {},
   "outputs": [
    {
     "name": "stderr",
     "output_type": "stream",
     "text": [
      "c:\\Users\\simon\\AppData\\Local\\Programs\\Python\\Python311\\Lib\\site-packages\\keras\\src\\engine\\training.py:3000: UserWarning: You are saving your model as an HDF5 file via `model.save()`. This file format is considered legacy. We recommend using instead the native Keras format, e.g. `model.save('my_model.keras')`.\n",
      "  saving_api.save_model(\n"
     ]
    }
   ],
   "source": [
    "model.save('model_file.h5')"
   ]
  },
  {
   "cell_type": "code",
   "execution_count": 15,
   "metadata": {},
   "outputs": [],
   "source": [
    "import keras_tuner\n",
    "from tensorflow import keras"
   ]
  },
  {
   "cell_type": "code",
   "execution_count": 16,
   "metadata": {},
   "outputs": [],
   "source": [
    "def build_model(hp):\n",
    "    model2 = Sequential()\n",
    "    model2.add(Dense(\n",
    "        hp.Choice('units', [100, 150, 200, 250]),\n",
    "        activation = 'relu'))\n",
    "    model2.add(BatchNormalization())\n",
    "    model2.add(Dense(\n",
    "        hp.Choice('units', [100, 150, 200, 250]),\n",
    "        activation = 'relu'))\n",
    "    model2.add(BatchNormalization())\n",
    "    model2.add(Dense(\n",
    "        hp.Choice('units', [100, 150, 200, 250]),\n",
    "        activation = 'relu'))\n",
    "    model2.add(BatchNormalization())\n",
    "    model2.add(Dense(3, activation = 'sigmoid'))\n",
    "    model2.compile(optimizer = 'adam', loss = 'categorical_crossentropy', metrics = ['accuracy'])\n",
    "    return model2"
   ]
  },
  {
   "cell_type": "code",
   "execution_count": 17,
   "metadata": {},
   "outputs": [],
   "source": [
    "tuner = keras_tuner.RandomSearch(\n",
    "    build_model,\n",
    "    objective='val_loss',\n",
    "    max_trials = 100)"
   ]
  },
  {
   "cell_type": "code",
   "execution_count": 18,
   "metadata": {},
   "outputs": [
    {
     "name": "stdout",
     "output_type": "stream",
     "text": [
      "Trial 4 Complete [00h 00m 04s]\n",
      "val_loss: 0.8626490831375122\n",
      "\n",
      "Best val_loss So Far: 0.8626490831375122\n",
      "Total elapsed time: 00h 00m 17s\n",
      "INFO:tensorflow:Oracle triggered exit\n"
     ]
    }
   ],
   "source": [
    "tuner.search(X_train, y_train, validation_split = 0.2)\n",
    "best_model = tuner.get_best_models(num_models=1)[0]"
   ]
  },
  {
   "cell_type": "code",
   "execution_count": 19,
   "metadata": {},
   "outputs": [
    {
     "name": "stdout",
     "output_type": "stream",
     "text": [
      "181/181 [==============================] - 0s 1ms/step\n"
     ]
    }
   ],
   "source": [
    "predictions = best_model.predict(X_test)\n",
    "import numpy as np\n",
    "predicted_classes = np.argmax(predictions, axis=1)\n",
    "y_test_classes = np.argmax(y_test, axis=1)\n"
   ]
  },
  {
   "cell_type": "code",
   "execution_count": 20,
   "metadata": {},
   "outputs": [
    {
     "name": "stdout",
     "output_type": "stream",
     "text": [
      "Accuracy on test data: 0.76\n"
     ]
    }
   ],
   "source": [
    "from sklearn.metrics import accuracy_score\n",
    "accuracy = accuracy_score(y_test_classes, predicted_classes)\n",
    "print(f\"Accuracy on test data: {accuracy:.2f}\")\n"
   ]
  },
  {
   "cell_type": "code",
   "execution_count": 21,
   "metadata": {},
   "outputs": [
    {
     "name": "stdout",
     "output_type": "stream",
     "text": [
      "File './untitled_project/tuner0.json' deleted successfully.\n"
     ]
    }
   ],
   "source": [
    "import os\n",
    "\n",
    "# Define the file path\n",
    "file_path = \"./untitled_project/tuner0.json\"  # Adjust the path if necessary\n",
    "\n",
    "# Check if the file exists before attempting to delete it\n",
    "if os.path.exists(file_path):\n",
    "    os.remove(file_path)\n",
    "    print(f\"File '{file_path}' deleted successfully.\")\n",
    "else:\n",
    "    print(f\"The file '{file_path}' does not exist.\")\n"
   ]
  }
 ],
 "metadata": {
  "kernelspec": {
   "display_name": "Python 3",
   "language": "python",
   "name": "python3"
  },
  "language_info": {
   "codemirror_mode": {
    "name": "ipython",
    "version": 3
   },
   "file_extension": ".py",
   "mimetype": "text/x-python",
   "name": "python",
   "nbconvert_exporter": "python",
   "pygments_lexer": "ipython3",
   "version": "3.11.1"
  },
  "orig_nbformat": 4
 },
 "nbformat": 4,
 "nbformat_minor": 2
}
