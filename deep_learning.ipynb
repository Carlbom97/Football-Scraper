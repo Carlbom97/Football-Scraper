{
 "cells": [
  {
   "cell_type": "code",
   "execution_count": 1,
   "metadata": {},
   "outputs": [],
   "source": [
    "import sqlite3\n",
    "import pandas as pd\n",
    "import numpy as np\n",
    "import tensorflow\n",
    "from sklearn.model_selection import train_test_split\n",
    "import matplotlib.pyplot as plt"
   ]
  },
  {
   "cell_type": "code",
   "execution_count": 2,
   "metadata": {},
   "outputs": [],
   "source": [
    "conn = sqlite3.connect('MatchDB.db')\n",
    "df = pd.read_sql_query(\"SELECT * FROM Games\", \n",
    "                       conn)"
   ]
  },
  {
   "cell_type": "code",
   "execution_count": 3,
   "metadata": {},
   "outputs": [],
   "source": [
    "df = df.drop(['HomeTeam', 'AwayTeam', 'League', 'Country', 'date', 'id', 'match_id', 'HomexG', 'AwayxG'], axis=1)\n",
    "# df = df.drop(['AwayPoss', 'AwayShots', 'AwaySonT', 'AwaySoffT', 'AwayBS', 'AwayCor', 'AwayOff', 'AwayFoul', 'AwayYellow', 'AwayPass', 'AwayAccPass', 'AwayPassOff', 'AwayAccLongB', 'AwayAccLongBpercent', 'AwayAccCross', 'AwayAccCrosspercent', 'AwaySuccDribb', 'AwaySuccDribbpercent', 'AwayDuelsW', 'AwayTackW', 'AwayTackWpercent', 'AwayInt', 'AwayClear'], axis= 1)\n",
    "df = df.dropna()"
   ]
  },
  {
   "cell_type": "code",
   "execution_count": 4,
   "metadata": {},
   "outputs": [],
   "source": [
    "def compare_values(row):\n",
    "    if row['HGoals'] > row['AGoals']:\n",
    "        return 0\n",
    "    elif row['AGoals'] > row['HGoals']:\n",
    "        return 1\n",
    "    else:\n",
    "        return 2\n",
    "    \n",
    "df['Winner'] = df.apply(compare_values, axis= 1)"
   ]
  },
  {
   "cell_type": "code",
   "execution_count": 5,
   "metadata": {},
   "outputs": [],
   "source": [
    "from tensorflow.keras.utils import to_categorical \n",
    "prediction = df.drop(['HGoals', 'AGoals'], axis=1).astype(float)\n",
    "target_1 = df['Winner'].astype(float)\n",
    "\n",
    "target_1 = to_categorical(target_1)\n",
    "\n",
    "X_train, X_test, y_train, y_test = train_test_split(prediction, target_1, test_size=0.2, random_state=42)"
   ]
  },
  {
   "cell_type": "code",
   "execution_count": 6,
   "metadata": {},
   "outputs": [],
   "source": [
    "import tensorflow\n",
    "from tensorflow.keras.models import Sequential\n",
    "from tensorflow.keras.layers import Dense\n",
    "from tensorflow.keras.layers import Dropout\n",
    "from tensorflow.keras.callbacks import EarlyStopping\n",
    "from tensorflow.keras.layers import BatchNormalization\n",
    "from tensorflow.keras.optimizers import Adam"
   ]
  },
  {
   "cell_type": "code",
   "execution_count": 7,
   "metadata": {},
   "outputs": [],
   "source": [
    "n_cols = len(X_train.columns)\n",
    "input_shape = (n_cols,)"
   ]
  },
  {
   "cell_type": "code",
   "execution_count": 8,
   "metadata": {},
   "outputs": [],
   "source": [
    "\n",
    "# y_train = to_categorical(y_train)\n",
    "# y_test = to_categorical(y_test)"
   ]
  },
  {
   "cell_type": "code",
   "execution_count": 9,
   "metadata": {},
   "outputs": [
    {
     "name": "stdout",
     "output_type": "stream",
     "text": [
      "Epoch 1/500\n",
      "624/624 [==============================] - 3s 3ms/step - loss: 0.7556 - accuracy: 0.6455 - val_loss: 1.2295 - val_accuracy: 0.5576\n",
      "Epoch 2/500\n",
      "624/624 [==============================] - 1s 2ms/step - loss: 0.1347 - accuracy: 0.9495 - val_loss: 0.1799 - val_accuracy: 0.9304\n",
      "Epoch 3/500\n",
      "624/624 [==============================] - 2s 3ms/step - loss: 0.0649 - accuracy: 0.9782 - val_loss: 0.3210 - val_accuracy: 0.8825\n",
      "Epoch 4/500\n",
      "624/624 [==============================] - 2s 3ms/step - loss: 0.0473 - accuracy: 0.9834 - val_loss: 0.0700 - val_accuracy: 0.9759\n",
      "Epoch 5/500\n",
      "624/624 [==============================] - 2s 3ms/step - loss: 0.0341 - accuracy: 0.9888 - val_loss: 0.1352 - val_accuracy: 0.9422\n",
      "Epoch 6/500\n",
      "624/624 [==============================] - 2s 3ms/step - loss: 0.0233 - accuracy: 0.9921 - val_loss: 0.1453 - val_accuracy: 0.9448\n",
      "Epoch 7/500\n",
      "624/624 [==============================] - 2s 3ms/step - loss: 0.0307 - accuracy: 0.9893 - val_loss: 0.0098 - val_accuracy: 0.9976\n",
      "Epoch 8/500\n",
      "624/624 [==============================] - 2s 3ms/step - loss: 0.0167 - accuracy: 0.9947 - val_loss: 0.0013 - val_accuracy: 1.0000\n",
      "Epoch 9/500\n",
      "624/624 [==============================] - 2s 3ms/step - loss: 0.0292 - accuracy: 0.9918 - val_loss: 6.5524e-04 - val_accuracy: 1.0000\n",
      "Epoch 10/500\n",
      "624/624 [==============================] - 2s 3ms/step - loss: 0.0165 - accuracy: 0.9946 - val_loss: 0.0072 - val_accuracy: 0.9980\n",
      "Epoch 11/500\n",
      "624/624 [==============================] - 2s 3ms/step - loss: 0.0136 - accuracy: 0.9958 - val_loss: 0.0015 - val_accuracy: 0.9996\n",
      "Epoch 12/500\n",
      "624/624 [==============================] - 2s 3ms/step - loss: 0.0176 - accuracy: 0.9943 - val_loss: 1.7938e-04 - val_accuracy: 1.0000\n",
      "Epoch 13/500\n",
      "624/624 [==============================] - 2s 3ms/step - loss: 0.0116 - accuracy: 0.9967 - val_loss: 8.6780 - val_accuracy: 0.4416\n",
      "Epoch 14/500\n",
      "624/624 [==============================] - 2s 3ms/step - loss: 0.0225 - accuracy: 0.9942 - val_loss: 6.9407e-04 - val_accuracy: 1.0000\n",
      "Epoch 15/500\n",
      "624/624 [==============================] - 2s 3ms/step - loss: 0.0153 - accuracy: 0.9958 - val_loss: 0.0259 - val_accuracy: 0.9904\n",
      "Epoch 16/500\n",
      "624/624 [==============================] - 2s 3ms/step - loss: 0.0114 - accuracy: 0.9967 - val_loss: 1.1896e-04 - val_accuracy: 1.0000\n",
      "Epoch 17/500\n",
      "624/624 [==============================] - 2s 3ms/step - loss: 4.5298e-04 - accuracy: 1.0000 - val_loss: 5.5687e-04 - val_accuracy: 0.9998\n",
      "Epoch 18/500\n",
      "624/624 [==============================] - 2s 3ms/step - loss: 0.0110 - accuracy: 0.9964 - val_loss: 2.7640e-05 - val_accuracy: 1.0000\n",
      "Epoch 19/500\n",
      "624/624 [==============================] - 2s 3ms/step - loss: 3.3208e-04 - accuracy: 1.0000 - val_loss: 1.0037e-05 - val_accuracy: 1.0000\n",
      "Epoch 20/500\n",
      "624/624 [==============================] - 2s 3ms/step - loss: 4.9689e-04 - accuracy: 0.9999 - val_loss: 0.0517 - val_accuracy: 0.9819\n",
      "Epoch 21/500\n",
      "624/624 [==============================] - 2s 3ms/step - loss: 0.0274 - accuracy: 0.9916 - val_loss: 6.5883e-05 - val_accuracy: 1.0000\n",
      "Epoch 22/500\n",
      "624/624 [==============================] - 2s 3ms/step - loss: 0.0013 - accuracy: 0.9997 - val_loss: 2.1029e-05 - val_accuracy: 1.0000\n",
      "Epoch 23/500\n",
      "624/624 [==============================] - 2s 2ms/step - loss: 1.7188e-04 - accuracy: 1.0000 - val_loss: 6.1962e-06 - val_accuracy: 1.0000\n",
      "Epoch 24/500\n",
      "624/624 [==============================] - 2s 2ms/step - loss: 0.0191 - accuracy: 0.9942 - val_loss: 1.1813e-04 - val_accuracy: 1.0000\n",
      "Epoch 25/500\n",
      "624/624 [==============================] - 2s 3ms/step - loss: 0.0027 - accuracy: 0.9992 - val_loss: 0.0024 - val_accuracy: 1.0000\n",
      "Epoch 26/500\n",
      "624/624 [==============================] - 1s 2ms/step - loss: 0.0114 - accuracy: 0.9969 - val_loss: 0.0062 - val_accuracy: 0.9982\n",
      "Epoch 27/500\n",
      "624/624 [==============================] - 1s 2ms/step - loss: 0.0019 - accuracy: 0.9995 - val_loss: 1.7682e-05 - val_accuracy: 1.0000\n",
      "Epoch 28/500\n",
      "624/624 [==============================] - 2s 2ms/step - loss: 0.0013 - accuracy: 0.9997 - val_loss: 0.4156 - val_accuracy: 0.8955\n"
     ]
    }
   ],
   "source": [
    "lr_schedule = tensorflow.keras.optimizers.schedules.ExponentialDecay(\n",
    "    initial_learning_rate=1e-2,\n",
    "    decay_steps=10000,\n",
    "    decay_rate=0.9)\n",
    "\n",
    "optimizer = tensorflow.keras.optimizers.Adam(learning_rate=lr_schedule)\n",
    "\n",
    "model = Sequential()\n",
    "\n",
    "model.add(Dense(250, activation = 'relu', input_shape = input_shape))\n",
    "model.add(BatchNormalization())\n",
    "model.add(Dense(200, activation = 'relu'))\n",
    "model.add(BatchNormalization())\n",
    "model.add(Dense(100, activation = 'relu'))\n",
    "model.add(BatchNormalization())\n",
    "model.add(Dense(50, activation = 'relu'))\n",
    "model.add(BatchNormalization())\n",
    "model.add(Dense(3, activation = 'sigmoid'))\n",
    "\n",
    "early_stopping = EarlyStopping(monitor = 'val_loss', patience = 5)\n",
    "\n",
    "model.compile(optimizer = 'adam', loss = 'categorical_crossentropy', metrics = ['accuracy'])\n",
    "hist = model.fit(X_train, y_train,\n",
    "                 validation_split = 0.2,\n",
    "                 epochs = 500,\n",
    "                 callbacks = [early_stopping]\n",
    "                )"
   ]
  },
  {
   "cell_type": "code",
   "execution_count": 10,
   "metadata": {},
   "outputs": [
    {
     "name": "stdout",
     "output_type": "stream",
     "text": [
      "195/195 [==============================] - 0s 1ms/step - loss: 0.4805 - accuracy: 0.8952\n"
     ]
    }
   ],
   "source": [
    "result = model.evaluate(X_test, y_test)"
   ]
  },
  {
   "cell_type": "code",
   "execution_count": 11,
   "metadata": {},
   "outputs": [
    {
     "data": {
      "text/plain": [
       "<matplotlib.legend.Legend at 0x195fb69a290>"
      ]
     },
     "execution_count": 11,
     "metadata": {},
     "output_type": "execute_result"
    },
    {
     "data": {
      "image/png": "[encoded data removed]",
      "text/plain": [
       "<Figure size 640x480 with 1 Axes>"
      ]
     },
     "metadata": {},
     "output_type": "display_data"
    }
   ],
   "source": [
    "plt.plot(np.sqrt(hist.history['accuracy']), 'r', label='Training accuracy')\n",
    "plt.plot(np.sqrt(hist.history['val_accuracy']), 'b', label='val_accuracy')\n",
    "plt.xlabel('Epochs')\n",
    "plt.ylabel('Validation Loss')\n",
    "plt.legend()"
   ]
  },
  {
   "cell_type": "code",
   "execution_count": 12,
   "metadata": {},
   "outputs": [
    {
     "name": "stdout",
     "output_type": "stream",
     "text": [
      "[0.6455397605895996, 0.9495061039924622, 0.9782379865646362, 0.983352541923523, 0.9887679815292358, 0.9920774102210999, 0.9892694354057312, 0.9947350025177002, 0.9918267130851746, 0.9945845603942871, 0.9957879781723022, 0.9942837357521057, 0.9967406988143921, 0.9942335486412048, 0.9958381652832031, 0.996690571308136, 1.0, 0.9963896870613098, 1.0, 0.9999498724937439, 0.9916261434555054, 0.9996991157531738, 1.0, 0.9941834211349487, 0.9992478489875793, 0.9968911409378052, 0.9994985461235046, 0.9996991157531738]\n",
      "1.0\n"
     ]
    }
   ],
   "source": [
    "print(hist.history['accuracy'])\n",
    "best_score = max(hist.history['accuracy'])\n",
    "# best_score2 = min(hist.history['val_loss'])\n",
    "print(best_score)\n",
    "\n",
    "\n"
   ]
  },
  {
   "cell_type": "code",
   "execution_count": 13,
   "metadata": {},
   "outputs": [
    {
     "name": "stdout",
     "output_type": "stream",
     "text": [
      "(6233, 3)\n"
     ]
    }
   ],
   "source": [
    "print(y_test.shape)"
   ]
  },
  {
   "cell_type": "code",
   "execution_count": 14,
   "metadata": {},
   "outputs": [
    {
     "name": "stderr",
     "output_type": "stream",
     "text": [
      "c:\\Users\\simon\\AppData\\Local\\Programs\\Python\\Python311\\Lib\\site-packages\\keras\\src\\engine\\training.py:3000: UserWarning: You are saving your model as an HDF5 file via `model.save()`. This file format is considered legacy. We recommend using instead the native Keras format, e.g. `model.save('my_model.keras')`.\n",
      "  saving_api.save_model(\n"
     ]
    }
   ],
   "source": [
    "model.save('model_file.h5')"
   ]
  },
  {
   "cell_type": "code",
   "execution_count": 15,
   "metadata": {},
   "outputs": [],
   "source": [
    "import keras_tuner\n",
    "from tensorflow import keras"
   ]
  },
  {
   "cell_type": "code",
   "execution_count": 16,
   "metadata": {},
   "outputs": [],
   "source": [
    "def build_model(hp):\n",
    "    model2 = Sequential()\n",
    "    model2.add(Dense(\n",
    "        hp.Choice('units', [100, 150, 200, 250]),\n",
    "        activation = 'relu'))\n",
    "    model2.add(BatchNormalization())\n",
    "    model2.add(Dense(\n",
    "        hp.Choice('units', [100, 150, 200, 250]),\n",
    "        activation = 'relu'))\n",
    "    model2.add(BatchNormalization())\n",
    "    model2.add(Dense(\n",
    "        hp.Choice('units', [100, 150, 200, 250]),\n",
    "        activation = 'relu'))\n",
    "    model2.add(BatchNormalization())\n",
    "    model2.add(Dense(3, activation = 'sigmoid'))\n",
    "    model2.compile(optimizer = 'adam', loss = 'categorical_crossentropy', metrics = ['accuracy'])\n",
    "    return model2"
   ]
  },
  {
   "cell_type": "code",
   "execution_count": 17,
   "metadata": {},
   "outputs": [],
   "source": [
    "tuner = keras_tuner.RandomSearch(\n",
    "    build_model,\n",
    "    objective='val_loss',\n",
    "    max_trials = 100)"
   ]
  },
  {
   "cell_type": "code",
   "execution_count": 18,
   "metadata": {},
   "outputs": [
    {
     "name": "stdout",
     "output_type": "stream",
     "text": [
      "Trial 4 Complete [00h 00m 03s]\n",
      "val_loss: 1.1738427877426147\n",
      "\n",
      "Best val_loss So Far: 0.557578444480896\n",
      "Total elapsed time: 00h 00m 11s\n",
      "INFO:tensorflow:Oracle triggered exit\n"
     ]
    }
   ],
   "source": [
    "tuner.search(X_train, y_train, validation_split = 0.2)\n",
    "best_model = tuner.get_best_models(num_models=1)[0]"
   ]
  },
  {
   "cell_type": "code",
   "execution_count": 19,
   "metadata": {},
   "outputs": [
    {
     "name": "stdout",
     "output_type": "stream",
     "text": [
      "195/195 [==============================] - 0s 851us/step\n"
     ]
    }
   ],
   "source": [
    "predictions = best_model.predict(X_test)\n",
    "import numpy as np\n",
    "predicted_classes = np.argmax(predictions, axis=1)\n",
    "y_test_classes = np.argmax(y_test, axis=1)\n"
   ]
  },
  {
   "cell_type": "code",
   "execution_count": 20,
   "metadata": {},
   "outputs": [
    {
     "name": "stdout",
     "output_type": "stream",
     "text": [
      "Accuracy on test data: 0.74\n"
     ]
    }
   ],
   "source": [
    "from sklearn.metrics import accuracy_score\n",
    "accuracy = accuracy_score(y_test_classes, predicted_classes)\n",
    "print(f\"Accuracy on test data: {accuracy:.2f}\")\n"
   ]
  },
  {
   "cell_type": "code",
   "execution_count": 21,
   "metadata": {},
   "outputs": [
    {
     "name": "stdout",
     "output_type": "stream",
     "text": [
      "File './untitled_project/tuner0.json' deleted successfully.\n"
     ]
    }
   ],
   "source": [
    "import os\n",
    "\n",
    "# Define the file path\n",
    "file_path = \"./untitled_project/tuner0.json\"  # Adjust the path if necessary\n",
    "\n",
    "# Check if the file exists before attempting to delete it\n",
    "if os.path.exists(file_path):\n",
    "    os.remove(file_path)\n",
    "    print(f\"File '{file_path}' deleted successfully.\")\n",
    "else:\n",
    "    print(f\"The file '{file_path}' does not exist.\")\n"
   ]
  }
 ],
 "metadata": {
  "kernelspec": {
   "display_name": "Python 3",
   "language": "python",
   "name": "python3"
  },
  "language_info": {
   "codemirror_mode": {
    "name": "ipython",
    "version": 3
   },
   "file_extension": ".py",
   "mimetype": "text/x-python",
   "name": "python",
   "nbconvert_exporter": "python",
   "pygments_lexer": "ipython3",
   "version": "3.11.1"
  },
  "orig_nbformat": 4
 },
 "nbformat": 4,
 "nbformat_minor": 2
}
