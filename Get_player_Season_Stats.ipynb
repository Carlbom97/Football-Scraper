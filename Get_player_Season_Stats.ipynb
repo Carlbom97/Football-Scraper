{
 "cells": [
  {
   "cell_type": "code",
   "execution_count": 45,
   "metadata": {},
   "outputs": [],
   "source": [
    "import requests"
   ]
  },
  {
   "cell_type": "code",
   "execution_count": 46,
   "metadata": {},
   "outputs": [],
   "source": [
    "id = 879568\n",
    "url = 'https://www.fotmob.com/api/playerData?id=' + str(id)"
   ]
  },
  {
   "cell_type": "code",
   "execution_count": 47,
   "metadata": {},
   "outputs": [],
   "source": [
    "res = requests.get(url)\n",
    "jasondata = res.json()"
   ]
  },
  {
   "cell_type": "code",
   "execution_count": 48,
   "metadata": {},
   "outputs": [
    {
     "data": {
      "text/plain": [
       "'Arbnor Mucolli'"
      ]
     },
     "execution_count": 48,
     "metadata": {},
     "output_type": "execute_result"
    }
   ],
   "source": [
    "# Spelarens namn\n",
    "jasondata['name']"
   ]
  },
  {
   "cell_type": "code",
   "execution_count": 49,
   "metadata": {},
   "outputs": [
    {
     "data": {
      "text/plain": [
       "'Left Winger'"
      ]
     },
     "execution_count": 49,
     "metadata": {},
     "output_type": "execute_result"
    }
   ],
   "source": [
    "# Spelarens position\n",
    "jasondata['origin']['positionDesc']['positions'][0]['strPos']['label']"
   ]
  },
  {
   "cell_type": "code",
   "execution_count": 50,
   "metadata": {},
   "outputs": [],
   "source": [
    "season_stats = jasondata['careerStatistics'][0]['seasons'][0]['stats'][0]['statsArr']"
   ]
  },
  {
   "cell_type": "code",
   "execution_count": 51,
   "metadata": {},
   "outputs": [],
   "source": [
    "player_stats = {}"
   ]
  },
  {
   "cell_type": "code",
   "execution_count": 62,
   "metadata": {},
   "outputs": [
    {
     "data": {
      "text/plain": [
       "812"
      ]
     },
     "execution_count": 62,
     "metadata": {},
     "output_type": "execute_result"
    }
   ],
   "source": []
  },
  {
   "cell_type": "code",
   "execution_count": 63,
   "metadata": {},
   "outputs": [
    {
     "name": "stdout",
     "output_type": "stream",
     "text": [
      "Error at index 0: float() argument must be a string or a real number, not 'dict'\n",
      "Error at index 22: list index out of range\n",
      "Error at index 23: list index out of range\n",
      "Error at index 24: list index out of range\n",
      "Error at index 25: list index out of range\n",
      "Error at index 26: list index out of range\n",
      "Error at index 27: list index out of range\n",
      "Error at index 28: list index out of range\n",
      "Error at index 29: list index out of range\n",
      "Error at index 30: list index out of range\n",
      "Error at index 31: list index out of range\n",
      "Error at index 32: list index out of range\n",
      "Error at index 33: list index out of range\n",
      "Error at index 34: list index out of range\n",
      "Error at index 35: list index out of range\n",
      "Error at index 36: list index out of range\n",
      "Error at index 37: list index out of range\n",
      "Error at index 38: list index out of range\n",
      "Error at index 39: list index out of range\n",
      "Error at index 40: list index out of range\n",
      "Error at index 41: list index out of range\n",
      "Error at index 42: list index out of range\n",
      "Error at index 43: list index out of range\n",
      "Error at index 44: list index out of range\n",
      "Error at index 45: list index out of range\n",
      "Error at index 46: list index out of range\n",
      "Error at index 47: list index out of range\n",
      "Error at index 48: list index out of range\n",
      "Error at index 49: list index out of range\n",
      "Error at index 50: list index out of range\n",
      "Error at index 51: list index out of range\n",
      "Error at index 52: list index out of range\n",
      "Error at index 53: list index out of range\n",
      "Error at index 54: list index out of range\n",
      "Error at index 55: list index out of range\n",
      "Error at index 56: list index out of range\n",
      "Error at index 57: list index out of range\n",
      "Error at index 58: list index out of range\n",
      "Error at index 59: list index out of range\n",
      "Error at index 60: list index out of range\n",
      "Error at index 61: list index out of range\n",
      "Error at index 62: list index out of range\n",
      "Error at index 63: list index out of range\n",
      "Error at index 64: list index out of range\n",
      "Error at index 65: list index out of range\n",
      "Error at index 66: list index out of range\n",
      "Error at index 67: list index out of range\n",
      "Error at index 68: list index out of range\n",
      "Error at index 69: list index out of range\n",
      "Error at index 70: list index out of range\n",
      "Error at index 71: list index out of range\n",
      "Error at index 72: list index out of range\n",
      "Error at index 73: list index out of range\n",
      "Error at index 74: list index out of range\n",
      "Error at index 75: list index out of range\n",
      "Error at index 76: list index out of range\n",
      "Error at index 77: list index out of range\n",
      "Error at index 78: list index out of range\n",
      "Error at index 79: list index out of range\n",
      "Error at index 80: list index out of range\n",
      "Error at index 81: list index out of range\n",
      "Error at index 82: list index out of range\n",
      "Error at index 83: list index out of range\n",
      "Error at index 84: list index out of range\n",
      "Error at index 85: list index out of range\n",
      "Error at index 86: list index out of range\n",
      "Error at index 87: list index out of range\n",
      "Error at index 88: list index out of range\n",
      "Error at index 89: list index out of range\n",
      "Error at index 90: list index out of range\n",
      "Error at index 91: list index out of range\n",
      "Error at index 92: list index out of range\n",
      "Error at index 93: list index out of range\n",
      "Error at index 94: list index out of range\n",
      "Error at index 95: list index out of range\n",
      "Error at index 96: list index out of range\n",
      "Error at index 97: list index out of range\n",
      "Error at index 98: list index out of range\n",
      "Error at index 99: list index out of range\n"
     ]
    }
   ],
   "source": [
    "\n",
    "for i in range(0,100):\n",
    "    try:\n",
    "        stat_name = season_stats[i][0]\n",
    "        stat_value = season_stats[i][1]['value']\n",
    "\n",
    "        player_stats[str(stat_name)] = float(stat_value)\n",
    "    except Exception as e:\n",
    "        print(f\"Error at index {i}: {e}\")"
   ]
  },
  {
   "cell_type": "code",
   "execution_count": 64,
   "metadata": {},
   "outputs": [
    {
     "data": {
      "text/plain": [
       "{'Matches started': 9.0,\n",
       " 'Subbed on': 1.0,\n",
       " 'Subbed off': 4.0,\n",
       " 'Minutes played': 812.0,\n",
       " 'Goals': 5.0,\n",
       " 'Expected goals (xG)': 3.0,\n",
       " 'Goals inside box': 5.0,\n",
       " 'Penalty goals': 1.0,\n",
       " 'Goals via right foot': 1.0,\n",
       " 'Goals via left foot': 4.0,\n",
       " 'Shots on target': 12.0,\n",
       " 'Shots off target': 6.0,\n",
       " 'Assists': 1.0,\n",
       " 'Chances created': 12.0,\n",
       " 'Total passes': 242.0,\n",
       " 'Dribbles attempted': 39.0,\n",
       " 'Successful dribbles': 18.0,\n",
       " 'Tackles attempted': 16.0,\n",
       " 'Tackles won': 11.0,\n",
       " 'Clearances': 7.0,\n",
       " 'Interceptions': 10.0}"
      ]
     },
     "execution_count": 64,
     "metadata": {},
     "output_type": "execute_result"
    }
   ],
   "source": [
    "player_stats"
   ]
  }
 ],
 "metadata": {
  "kernelspec": {
   "display_name": "Python 3",
   "language": "python",
   "name": "python3"
  },
  "language_info": {
   "codemirror_mode": {
    "name": "ipython",
    "version": 3
   },
   "file_extension": ".py",
   "mimetype": "text/x-python",
   "name": "python",
   "nbconvert_exporter": "python",
   "pygments_lexer": "ipython3",
   "version": "3.10.3"
  },
  "orig_nbformat": 4
 },
 "nbformat": 4,
 "nbformat_minor": 2
}
