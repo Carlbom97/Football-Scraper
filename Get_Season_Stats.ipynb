{
 "cells": [
  {
   "cell_type": "code",
   "execution_count": 29,
   "metadata": {},
   "outputs": [],
   "source": [
    "import sqlite3\n",
    "import pandas as pd\n",
    "import numpy as np\n",
    "import requests\n",
    "from db import call_db"
   ]
  },
  {
   "cell_type": "code",
   "execution_count": 30,
   "metadata": {},
   "outputs": [],
   "source": [
    "conn = sqlite3.connect('MatchDB.db')\n",
    "df = pd.read_sql_query(\"SELECT * FROM Games WHERE League = 'Allsvenskan' AND Country = 'SWE'\", conn)"
   ]
  },
  {
   "cell_type": "code",
   "execution_count": 31,
   "metadata": {},
   "outputs": [],
   "source": [
    "df.to_csv(\"Allsvenskan_Played_Games.csv\", index=False)"
   ]
  },
  {
   "cell_type": "code",
   "execution_count": 32,
   "metadata": {},
   "outputs": [],
   "source": [
    "url_list = [\"https://www.fotmob.com/api/leagues?id=67\"] \n",
    "\n",
    "start_game_url = \"https://www.fotmob.com/api/matchDetails?matchId=\""
   ]
  },
  {
   "cell_type": "code",
   "execution_count": 33,
   "metadata": {},
   "outputs": [],
   "source": [
    "rem_games = []"
   ]
  },
  {
   "cell_type": "code",
   "execution_count": 34,
   "metadata": {},
   "outputs": [],
   "source": [
    "for link in url_list:\n",
    "    res = requests.get(link)\n",
    "    jasondata = res.json()\n",
    "\n",
    "    for match in jasondata['matches']['allMatches']:\n",
    "        try:\n",
    "            game_id = match['id']\n",
    "            finished = match['status']['finished']\n",
    "            cancelled = match['status']['cancelled']\n",
    "\n",
    "            query = f\"SELECT * FROM Games WHERE match_id = {game_id}\"\n",
    "            in_database = call_db(query)\n",
    "\n",
    "            if not finished and not cancelled and not in_database:\n",
    "                rem_games.append(game_id)\n",
    "\n",
    "        except KeyError:\n",
    "            pass"
   ]
  },
  {
   "cell_type": "code",
   "execution_count": 35,
   "metadata": {},
   "outputs": [],
   "source": [
    "for game_id in rem_games:\n",
    "    try:\n",
    "        try:\n",
    "            game_url = start_game_url + str(game_id)\n",
    "            fot_res = requests.get(game_url)\n",
    "            jasondata = fot_res.json()\n",
    "        except requests.exceptions.RequestException as e:\n",
    "            print(f\"Error fetching game data for ID {game_id}: {e}\")\n",
    "\n",
    "        match_id = jasondata['general']['matchId']\n",
    "        date = jasondata['general']['matchTimeUTCDate'].split(\"T\")[0]\n",
    "        HomeTeam = jasondata['general']['homeTeam']['name'].replace(\"'\",\" \")\n",
    "        AwayTeam = jasondata['general']['awayTeam']['name'].replace(\"'\",\" \")\n",
    "\n",
    "        query = f\"\"\"\n",
    "                INSERT INTO Rem_Games (match_id, date, HomeTeam, AwayTeam)\n",
    "                VALUES ({match_id}, '{date}', '{HomeTeam}', '{AwayTeam}')\n",
    "                \"\"\"\n",
    "        \n",
    "        call_db(query)\n",
    "\n",
    "    except:\n",
    "        pass\n",
    "\n",
    "    "
   ]
  },
  {
   "cell_type": "code",
   "execution_count": 36,
   "metadata": {},
   "outputs": [],
   "source": [
    "conn = sqlite3.connect('MatchDB.db')\n",
    "df2 = pd.read_sql_query(\"SELECT * FROM Rem_Games\", conn)"
   ]
  },
  {
   "cell_type": "code",
   "execution_count": 37,
   "metadata": {},
   "outputs": [],
   "source": [
    "df2.to_csv(\"Allsvenskan_Rem_Games.csv\", index=False)"
   ]
  },
  {
   "cell_type": "code",
   "execution_count": null,
   "metadata": {},
   "outputs": [],
   "source": []
  }
 ],
 "metadata": {
  "kernelspec": {
   "display_name": "Python 3",
   "language": "python",
   "name": "python3"
  },
  "language_info": {
   "codemirror_mode": {
    "name": "ipython",
    "version": 3
   },
   "file_extension": ".py",
   "mimetype": "text/x-python",
   "name": "python",
   "nbconvert_exporter": "python",
   "pygments_lexer": "ipython3",
   "version": "3.10.3"
  },
  "orig_nbformat": 4
 },
 "nbformat": 4,
 "nbformat_minor": 2
}
