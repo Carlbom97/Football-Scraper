{
 "cells": [
  {
   "cell_type": "code",
   "execution_count": 1,
   "metadata": {},
   "outputs": [],
   "source": [
    "import sqlite3\n",
    "import pandas as pd\n",
    "import numpy as np\n",
    "import tensorflow\n",
    "from sklearn.model_selection import train_test_split\n",
    "import matplotlib.pyplot as plt\n",
    "from tensorflow.keras.utils import to_categorical \n"
   ]
  },
  {
   "cell_type": "code",
   "execution_count": 2,
   "metadata": {},
   "outputs": [],
   "source": [
    "conn = sqlite3.connect('MatchDB.db')\n",
    "df = pd.read_sql_query(\"SELECT * FROM Expected_Games\", conn)"
   ]
  },
  {
   "cell_type": "code",
   "execution_count": 3,
   "metadata": {},
   "outputs": [
    {
     "data": {
      "text/html": [
       "<div>\n",
       "<style scoped>\n",
       "    .dataframe tbody tr th:only-of-type {\n",
       "        vertical-align: middle;\n",
       "    }\n",
       "\n",
       "    .dataframe tbody tr th {\n",
       "        vertical-align: top;\n",
       "    }\n",
       "\n",
       "    .dataframe thead th {\n",
       "        text-align: right;\n",
       "    }\n",
       "</style>\n",
       "<table border=\"1\" class=\"dataframe\">\n",
       "  <thead>\n",
       "    <tr style=\"text-align: right;\">\n",
       "      <th></th>\n",
       "      <th>HGoals</th>\n",
       "      <th>AGoals</th>\n",
       "      <th>xHomePoss</th>\n",
       "      <th>xAwayPoss</th>\n",
       "      <th>xHomeShots</th>\n",
       "      <th>xAwayShots</th>\n",
       "      <th>xHomeSonT</th>\n",
       "      <th>xAwaySonT</th>\n",
       "      <th>xHomeSoffT</th>\n",
       "      <th>xAwaySoffT</th>\n",
       "      <th>...</th>\n",
       "      <th>xHomeDuelsW</th>\n",
       "      <th>xAwayDuelsW</th>\n",
       "      <th>xHomeTackW</th>\n",
       "      <th>xAwayTackW</th>\n",
       "      <th>xHomeTackWpercent</th>\n",
       "      <th>xAwayTackWpercent</th>\n",
       "      <th>xHomeInt</th>\n",
       "      <th>xAwayInt</th>\n",
       "      <th>xHomeClear</th>\n",
       "      <th>xAwayClear</th>\n",
       "    </tr>\n",
       "  </thead>\n",
       "  <tbody>\n",
       "    <tr>\n",
       "      <th>0</th>\n",
       "      <td>0</td>\n",
       "      <td>0</td>\n",
       "      <td>46.72</td>\n",
       "      <td>53.28</td>\n",
       "      <td>17.07</td>\n",
       "      <td>11.48</td>\n",
       "      <td>9.39</td>\n",
       "      <td>3.45</td>\n",
       "      <td>7.68</td>\n",
       "      <td>8.03</td>\n",
       "      <td>...</td>\n",
       "      <td>43.43</td>\n",
       "      <td>44.32</td>\n",
       "      <td>15.60</td>\n",
       "      <td>6.82</td>\n",
       "      <td>77.72</td>\n",
       "      <td>53.89</td>\n",
       "      <td>12.68</td>\n",
       "      <td>5.18</td>\n",
       "      <td>14.25</td>\n",
       "      <td>16.86</td>\n",
       "    </tr>\n",
       "    <tr>\n",
       "      <th>1</th>\n",
       "      <td>2</td>\n",
       "      <td>5</td>\n",
       "      <td>48.25</td>\n",
       "      <td>51.75</td>\n",
       "      <td>14.58</td>\n",
       "      <td>13.41</td>\n",
       "      <td>3.18</td>\n",
       "      <td>3.42</td>\n",
       "      <td>11.40</td>\n",
       "      <td>9.99</td>\n",
       "      <td>...</td>\n",
       "      <td>42.38</td>\n",
       "      <td>54.45</td>\n",
       "      <td>9.10</td>\n",
       "      <td>7.07</td>\n",
       "      <td>65.81</td>\n",
       "      <td>50.01</td>\n",
       "      <td>9.87</td>\n",
       "      <td>9.01</td>\n",
       "      <td>12.11</td>\n",
       "      <td>12.17</td>\n",
       "    </tr>\n",
       "    <tr>\n",
       "      <th>2</th>\n",
       "      <td>3</td>\n",
       "      <td>3</td>\n",
       "      <td>44.63</td>\n",
       "      <td>55.37</td>\n",
       "      <td>12.50</td>\n",
       "      <td>16.33</td>\n",
       "      <td>3.10</td>\n",
       "      <td>9.33</td>\n",
       "      <td>9.40</td>\n",
       "      <td>7.00</td>\n",
       "      <td>...</td>\n",
       "      <td>58.91</td>\n",
       "      <td>55.47</td>\n",
       "      <td>16.52</td>\n",
       "      <td>12.86</td>\n",
       "      <td>60.56</td>\n",
       "      <td>64.42</td>\n",
       "      <td>17.50</td>\n",
       "      <td>11.79</td>\n",
       "      <td>15.27</td>\n",
       "      <td>18.11</td>\n",
       "    </tr>\n",
       "    <tr>\n",
       "      <th>3</th>\n",
       "      <td>3</td>\n",
       "      <td>2</td>\n",
       "      <td>55.79</td>\n",
       "      <td>44.21</td>\n",
       "      <td>11.67</td>\n",
       "      <td>14.20</td>\n",
       "      <td>3.34</td>\n",
       "      <td>3.48</td>\n",
       "      <td>8.33</td>\n",
       "      <td>10.72</td>\n",
       "      <td>...</td>\n",
       "      <td>53.21</td>\n",
       "      <td>50.52</td>\n",
       "      <td>8.01</td>\n",
       "      <td>8.40</td>\n",
       "      <td>75.37</td>\n",
       "      <td>71.33</td>\n",
       "      <td>6.26</td>\n",
       "      <td>8.59</td>\n",
       "      <td>20.84</td>\n",
       "      <td>16.00</td>\n",
       "    </tr>\n",
       "    <tr>\n",
       "      <th>4</th>\n",
       "      <td>0</td>\n",
       "      <td>0</td>\n",
       "      <td>56.06</td>\n",
       "      <td>43.94</td>\n",
       "      <td>13.95</td>\n",
       "      <td>8.43</td>\n",
       "      <td>4.66</td>\n",
       "      <td>3.11</td>\n",
       "      <td>9.29</td>\n",
       "      <td>5.32</td>\n",
       "      <td>...</td>\n",
       "      <td>47.08</td>\n",
       "      <td>47.86</td>\n",
       "      <td>8.62</td>\n",
       "      <td>9.64</td>\n",
       "      <td>51.12</td>\n",
       "      <td>72.19</td>\n",
       "      <td>3.56</td>\n",
       "      <td>4.54</td>\n",
       "      <td>13.00</td>\n",
       "      <td>16.12</td>\n",
       "    </tr>\n",
       "    <tr>\n",
       "      <th>...</th>\n",
       "      <td>...</td>\n",
       "      <td>...</td>\n",
       "      <td>...</td>\n",
       "      <td>...</td>\n",
       "      <td>...</td>\n",
       "      <td>...</td>\n",
       "      <td>...</td>\n",
       "      <td>...</td>\n",
       "      <td>...</td>\n",
       "      <td>...</td>\n",
       "      <td>...</td>\n",
       "      <td>...</td>\n",
       "      <td>...</td>\n",
       "      <td>...</td>\n",
       "      <td>...</td>\n",
       "      <td>...</td>\n",
       "      <td>...</td>\n",
       "      <td>...</td>\n",
       "      <td>...</td>\n",
       "      <td>...</td>\n",
       "      <td>...</td>\n",
       "    </tr>\n",
       "    <tr>\n",
       "      <th>25878</th>\n",
       "      <td>2</td>\n",
       "      <td>1</td>\n",
       "      <td>39.74</td>\n",
       "      <td>60.26</td>\n",
       "      <td>14.42</td>\n",
       "      <td>13.32</td>\n",
       "      <td>3.61</td>\n",
       "      <td>3.63</td>\n",
       "      <td>10.81</td>\n",
       "      <td>9.69</td>\n",
       "      <td>...</td>\n",
       "      <td>55.94</td>\n",
       "      <td>56.19</td>\n",
       "      <td>10.94</td>\n",
       "      <td>8.85</td>\n",
       "      <td>64.01</td>\n",
       "      <td>67.98</td>\n",
       "      <td>10.30</td>\n",
       "      <td>7.09</td>\n",
       "      <td>24.77</td>\n",
       "      <td>16.78</td>\n",
       "    </tr>\n",
       "    <tr>\n",
       "      <th>25879</th>\n",
       "      <td>1</td>\n",
       "      <td>0</td>\n",
       "      <td>53.59</td>\n",
       "      <td>46.41</td>\n",
       "      <td>15.18</td>\n",
       "      <td>10.51</td>\n",
       "      <td>5.18</td>\n",
       "      <td>3.34</td>\n",
       "      <td>10.00</td>\n",
       "      <td>7.17</td>\n",
       "      <td>...</td>\n",
       "      <td>49.54</td>\n",
       "      <td>47.49</td>\n",
       "      <td>11.99</td>\n",
       "      <td>10.06</td>\n",
       "      <td>65.49</td>\n",
       "      <td>65.10</td>\n",
       "      <td>9.48</td>\n",
       "      <td>11.88</td>\n",
       "      <td>15.35</td>\n",
       "      <td>17.66</td>\n",
       "    </tr>\n",
       "    <tr>\n",
       "      <th>25880</th>\n",
       "      <td>1</td>\n",
       "      <td>1</td>\n",
       "      <td>59.57</td>\n",
       "      <td>40.43</td>\n",
       "      <td>15.76</td>\n",
       "      <td>10.29</td>\n",
       "      <td>4.94</td>\n",
       "      <td>2.82</td>\n",
       "      <td>10.82</td>\n",
       "      <td>7.47</td>\n",
       "      <td>...</td>\n",
       "      <td>44.79</td>\n",
       "      <td>41.97</td>\n",
       "      <td>9.87</td>\n",
       "      <td>13.03</td>\n",
       "      <td>75.15</td>\n",
       "      <td>67.96</td>\n",
       "      <td>10.76</td>\n",
       "      <td>11.77</td>\n",
       "      <td>13.73</td>\n",
       "      <td>21.00</td>\n",
       "    </tr>\n",
       "    <tr>\n",
       "      <th>25881</th>\n",
       "      <td>2</td>\n",
       "      <td>0</td>\n",
       "      <td>61.34</td>\n",
       "      <td>38.66</td>\n",
       "      <td>24.09</td>\n",
       "      <td>9.22</td>\n",
       "      <td>7.34</td>\n",
       "      <td>3.16</td>\n",
       "      <td>16.75</td>\n",
       "      <td>6.06</td>\n",
       "      <td>...</td>\n",
       "      <td>62.90</td>\n",
       "      <td>61.90</td>\n",
       "      <td>11.47</td>\n",
       "      <td>10.38</td>\n",
       "      <td>61.22</td>\n",
       "      <td>68.30</td>\n",
       "      <td>12.36</td>\n",
       "      <td>9.36</td>\n",
       "      <td>14.46</td>\n",
       "      <td>32.26</td>\n",
       "    </tr>\n",
       "    <tr>\n",
       "      <th>25882</th>\n",
       "      <td>1</td>\n",
       "      <td>5</td>\n",
       "      <td>47.28</td>\n",
       "      <td>52.72</td>\n",
       "      <td>13.00</td>\n",
       "      <td>14.26</td>\n",
       "      <td>5.03</td>\n",
       "      <td>4.93</td>\n",
       "      <td>7.97</td>\n",
       "      <td>9.33</td>\n",
       "      <td>...</td>\n",
       "      <td>39.20</td>\n",
       "      <td>44.42</td>\n",
       "      <td>7.96</td>\n",
       "      <td>9.74</td>\n",
       "      <td>68.28</td>\n",
       "      <td>73.56</td>\n",
       "      <td>11.51</td>\n",
       "      <td>8.09</td>\n",
       "      <td>15.06</td>\n",
       "      <td>12.93</td>\n",
       "    </tr>\n",
       "  </tbody>\n",
       "</table>\n",
       "<p>25883 rows × 50 columns</p>\n",
       "</div>"
      ],
      "text/plain": [
       "       HGoals  AGoals  xHomePoss  xAwayPoss  xHomeShots  xAwayShots  \\\n",
       "0           0       0      46.72      53.28       17.07       11.48   \n",
       "1           2       5      48.25      51.75       14.58       13.41   \n",
       "2           3       3      44.63      55.37       12.50       16.33   \n",
       "3           3       2      55.79      44.21       11.67       14.20   \n",
       "4           0       0      56.06      43.94       13.95        8.43   \n",
       "...       ...     ...        ...        ...         ...         ...   \n",
       "25878       2       1      39.74      60.26       14.42       13.32   \n",
       "25879       1       0      53.59      46.41       15.18       10.51   \n",
       "25880       1       1      59.57      40.43       15.76       10.29   \n",
       "25881       2       0      61.34      38.66       24.09        9.22   \n",
       "25882       1       5      47.28      52.72       13.00       14.26   \n",
       "\n",
       "       xHomeSonT  xAwaySonT  xHomeSoffT  xAwaySoffT  ...  xHomeDuelsW  \\\n",
       "0           9.39       3.45        7.68        8.03  ...        43.43   \n",
       "1           3.18       3.42       11.40        9.99  ...        42.38   \n",
       "2           3.10       9.33        9.40        7.00  ...        58.91   \n",
       "3           3.34       3.48        8.33       10.72  ...        53.21   \n",
       "4           4.66       3.11        9.29        5.32  ...        47.08   \n",
       "...          ...        ...         ...         ...  ...          ...   \n",
       "25878       3.61       3.63       10.81        9.69  ...        55.94   \n",
       "25879       5.18       3.34       10.00        7.17  ...        49.54   \n",
       "25880       4.94       2.82       10.82        7.47  ...        44.79   \n",
       "25881       7.34       3.16       16.75        6.06  ...        62.90   \n",
       "25882       5.03       4.93        7.97        9.33  ...        39.20   \n",
       "\n",
       "       xAwayDuelsW  xHomeTackW  xAwayTackW  xHomeTackWpercent  \\\n",
       "0            44.32       15.60        6.82              77.72   \n",
       "1            54.45        9.10        7.07              65.81   \n",
       "2            55.47       16.52       12.86              60.56   \n",
       "3            50.52        8.01        8.40              75.37   \n",
       "4            47.86        8.62        9.64              51.12   \n",
       "...            ...         ...         ...                ...   \n",
       "25878        56.19       10.94        8.85              64.01   \n",
       "25879        47.49       11.99       10.06              65.49   \n",
       "25880        41.97        9.87       13.03              75.15   \n",
       "25881        61.90       11.47       10.38              61.22   \n",
       "25882        44.42        7.96        9.74              68.28   \n",
       "\n",
       "       xAwayTackWpercent  xHomeInt  xAwayInt  xHomeClear  xAwayClear  \n",
       "0                  53.89     12.68      5.18       14.25       16.86  \n",
       "1                  50.01      9.87      9.01       12.11       12.17  \n",
       "2                  64.42     17.50     11.79       15.27       18.11  \n",
       "3                  71.33      6.26      8.59       20.84       16.00  \n",
       "4                  72.19      3.56      4.54       13.00       16.12  \n",
       "...                  ...       ...       ...         ...         ...  \n",
       "25878              67.98     10.30      7.09       24.77       16.78  \n",
       "25879              65.10      9.48     11.88       15.35       17.66  \n",
       "25880              67.96     10.76     11.77       13.73       21.00  \n",
       "25881              68.30     12.36      9.36       14.46       32.26  \n",
       "25882              73.56     11.51      8.09       15.06       12.93  \n",
       "\n",
       "[25883 rows x 50 columns]"
      ]
     },
     "execution_count": 3,
     "metadata": {},
     "output_type": "execute_result"
    }
   ],
   "source": [
    "df = df.drop(['HomeTeam', 'AwayTeam', 'League', 'Country', 'date', 'id', 'match_id', 'HGames', 'AGames'], axis=1)\n",
    "# df = df.drop(['xAwayPoss', 'xAwayShots', 'xAwaySonT', 'xAwaySoffT', 'xAwayBS', 'xAwayCor', 'xAwayOff', 'xAwayFoul', 'xAwayYellow', 'xAwayPass', 'xAwayAccPass', 'xAwayPassOff', 'xAwayAccLongB', 'xAwayAccLongBpercent', 'xAwayAccCross', 'xAwayAccCrosspercent', 'xAwaySuccDribb', 'xAwaySuccDribbpercent', 'xAwayDuelsW', 'xAwayTackW', 'xAwayTackWpercent', 'xAwayInt', 'xAwayClear'], axis= 1)\n",
    "# df = df.drop(['xHomeSoffT', 'xAwaySoffT', 'xHomeBS', 'xAwayBS'], axis= 1)\n",
    "# df = df.drop(df.iloc[: , 10:], axis= 1)\n",
    "df = df.dropna()\n",
    "df"
   ]
  },
  {
   "cell_type": "code",
   "execution_count": 4,
   "metadata": {},
   "outputs": [],
   "source": [
    "def compare_values(row):\n",
    "    if row['HGoals'] > row['AGoals']:\n",
    "        return 0\n",
    "    elif row['AGoals'] == row['HGoals']:\n",
    "        return 1\n",
    "    else:\n",
    "        return 2\n",
    "    \n",
    "df['Winner'] = df.apply(compare_values, axis= 1)\n",
    "\n",
    "# def compare_values(row):\n",
    "#     if row['HGoals'] > row['AGoals']:\n",
    "#         return 0\n",
    "#     else:\n",
    "#         return 1\n",
    "    \n",
    "df['Winner'] = df.apply(compare_values, axis= 1)"
   ]
  },
  {
   "cell_type": "code",
   "execution_count": 5,
   "metadata": {},
   "outputs": [
    {
     "data": {
      "text/plain": [
       "0    11266\n",
       "2     7852\n",
       "1     6765\n",
       "Name: Winner, dtype: int64"
      ]
     },
     "execution_count": 5,
     "metadata": {},
     "output_type": "execute_result"
    }
   ],
   "source": [
    "df['Winner'].value_counts()"
   ]
  },
  {
   "cell_type": "code",
   "execution_count": 6,
   "metadata": {},
   "outputs": [],
   "source": [
    "from sklearn.preprocessing import StandardScaler\n",
    "scale = StandardScaler()"
   ]
  },
  {
   "cell_type": "code",
   "execution_count": 7,
   "metadata": {},
   "outputs": [],
   "source": [
    "prediction = df.drop(['HGoals', 'AGoals', 'Winner'], axis=1).astype(float)\n",
    "target_1 = df['Winner'].astype(float)\n",
    "target_1 = to_categorical(target_1)\n",
    "\n",
    "# scaled_pred = scale.fit_transform(prediction)\n",
    "# scaled_target = scale.fit_transform(target_1)"
   ]
  },
  {
   "cell_type": "code",
   "execution_count": 8,
   "metadata": {},
   "outputs": [],
   "source": [
    "X_train, X_test, y_train, y_test = train_test_split(prediction, target_1, test_size=0.2, random_state=42)\n",
    "# X_train, X_test, y_train, y_test = train_test_split(scaled_pred, scaled_target, test_size=0.2, random_state=42)"
   ]
  },
  {
   "cell_type": "code",
   "execution_count": 9,
   "metadata": {},
   "outputs": [
    {
     "data": {
      "text/plain": [
       "array([[1., 0., 0.],\n",
       "       [1., 0., 0.],\n",
       "       [0., 0., 1.],\n",
       "       ...,\n",
       "       [1., 0., 0.],\n",
       "       [0., 0., 1.],\n",
       "       [1., 0., 0.]], dtype=float32)"
      ]
     },
     "execution_count": 9,
     "metadata": {},
     "output_type": "execute_result"
    }
   ],
   "source": [
    "y_train"
   ]
  },
  {
   "cell_type": "code",
   "execution_count": 10,
   "metadata": {},
   "outputs": [],
   "source": [
    "import tensorflow\n",
    "from tensorflow.keras.models import Sequential\n",
    "from tensorflow.keras.layers import Dense\n",
    "from tensorflow.keras.layers import Dropout\n",
    "from tensorflow.keras.callbacks import EarlyStopping\n",
    "from tensorflow.keras.layers import BatchNormalization\n",
    "from tensorflow.keras.optimizers import Adam"
   ]
  },
  {
   "cell_type": "code",
   "execution_count": 11,
   "metadata": {},
   "outputs": [
    {
     "data": {
      "text/plain": [
       "(48,)"
      ]
     },
     "execution_count": 11,
     "metadata": {},
     "output_type": "execute_result"
    }
   ],
   "source": [
    "n_cols = len(prediction.columns)\n",
    "input_shape = (n_cols,)\n",
    "input_shape"
   ]
  },
  {
   "cell_type": "code",
   "execution_count": 12,
   "metadata": {},
   "outputs": [
    {
     "name": "stdout",
     "output_type": "stream",
     "text": [
      "Epoch 1/500\n",
      "518/518 [==============================] - 5s 6ms/step - loss: 0.6245 - accuracy: 0.4485 - val_loss: 0.6058 - val_accuracy: 0.4669\n",
      "Epoch 2/500\n",
      "518/518 [==============================] - 3s 6ms/step - loss: 0.6079 - accuracy: 0.4754 - val_loss: 0.6742 - val_accuracy: 0.4283\n",
      "Epoch 3/500\n",
      "518/518 [==============================] - 3s 6ms/step - loss: 0.6052 - accuracy: 0.4751 - val_loss: 0.6407 - val_accuracy: 0.4300\n",
      "Epoch 4/500\n",
      "518/518 [==============================] - 3s 5ms/step - loss: 0.6033 - accuracy: 0.4778 - val_loss: 0.6133 - val_accuracy: 0.4466\n",
      "Epoch 5/500\n",
      "518/518 [==============================] - 3s 6ms/step - loss: 0.6030 - accuracy: 0.4781 - val_loss: 0.8477 - val_accuracy: 0.3170\n",
      "Epoch 6/500\n",
      "518/518 [==============================] - 3s 6ms/step - loss: 0.6037 - accuracy: 0.4787 - val_loss: 0.6087 - val_accuracy: 0.4599\n",
      "Epoch 7/500\n",
      "518/518 [==============================] - 3s 6ms/step - loss: 0.6028 - accuracy: 0.4773 - val_loss: 0.6060 - val_accuracy: 0.4763\n",
      "Epoch 8/500\n",
      "518/518 [==============================] - 3s 6ms/step - loss: 0.6021 - accuracy: 0.4813 - val_loss: 0.6308 - val_accuracy: 0.4507\n",
      "Epoch 9/500\n",
      "518/518 [==============================] - 3s 6ms/step - loss: 0.6026 - accuracy: 0.4809 - val_loss: 0.6128 - val_accuracy: 0.4597\n",
      "Epoch 10/500\n",
      "518/518 [==============================] - 3s 6ms/step - loss: 0.6030 - accuracy: 0.4789 - val_loss: 0.6250 - val_accuracy: 0.4602\n",
      "Epoch 11/500\n",
      "518/518 [==============================] - 3s 6ms/step - loss: 0.6026 - accuracy: 0.4782 - val_loss: 0.6805 - val_accuracy: 0.3387\n",
      "Epoch 12/500\n",
      "518/518 [==============================] - 3s 6ms/step - loss: 0.6020 - accuracy: 0.4775 - val_loss: 0.6089 - val_accuracy: 0.4751\n",
      "Epoch 13/500\n",
      "518/518 [==============================] - 3s 6ms/step - loss: 0.6021 - accuracy: 0.4799 - val_loss: 0.6113 - val_accuracy: 0.4705\n",
      "Epoch 14/500\n",
      "518/518 [==============================] - 3s 6ms/step - loss: 0.6026 - accuracy: 0.4778 - val_loss: 0.6113 - val_accuracy: 0.4674\n",
      "Epoch 15/500\n",
      "518/518 [==============================] - 3s 5ms/step - loss: 0.6023 - accuracy: 0.4804 - val_loss: 0.6106 - val_accuracy: 0.4633\n",
      "Epoch 16/500\n",
      "518/518 [==============================] - 3s 5ms/step - loss: 0.6019 - accuracy: 0.4763 - val_loss: 0.6105 - val_accuracy: 0.4749\n",
      "Epoch 17/500\n",
      "518/518 [==============================] - 3s 6ms/step - loss: 0.6023 - accuracy: 0.4810 - val_loss: 0.6043 - val_accuracy: 0.4773\n",
      "Epoch 18/500\n",
      "518/518 [==============================] - 3s 5ms/step - loss: 0.6019 - accuracy: 0.4814 - val_loss: 0.6023 - val_accuracy: 0.4754\n",
      "Epoch 19/500\n",
      "518/518 [==============================] - 3s 6ms/step - loss: 0.6021 - accuracy: 0.4816 - val_loss: 0.6036 - val_accuracy: 0.4785\n",
      "Epoch 20/500\n",
      "518/518 [==============================] - 3s 5ms/step - loss: 0.6017 - accuracy: 0.4801 - val_loss: 0.6037 - val_accuracy: 0.4788\n",
      "Epoch 21/500\n",
      "518/518 [==============================] - 3s 6ms/step - loss: 0.6017 - accuracy: 0.4809 - val_loss: 0.6214 - val_accuracy: 0.4454\n",
      "Epoch 22/500\n",
      "518/518 [==============================] - 3s 6ms/step - loss: 0.6021 - accuracy: 0.4769 - val_loss: 0.6025 - val_accuracy: 0.4768\n",
      "Epoch 23/500\n",
      "518/518 [==============================] - 3s 6ms/step - loss: 0.6012 - accuracy: 0.4812 - val_loss: 0.6088 - val_accuracy: 0.4703\n",
      "Epoch 24/500\n",
      "518/518 [==============================] - 3s 6ms/step - loss: 0.6016 - accuracy: 0.4826 - val_loss: 0.6021 - val_accuracy: 0.4773\n",
      "Epoch 25/500\n",
      "518/518 [==============================] - 3s 5ms/step - loss: 0.6015 - accuracy: 0.4798 - val_loss: 0.6048 - val_accuracy: 0.4725\n",
      "Epoch 26/500\n",
      "518/518 [==============================] - 3s 5ms/step - loss: 0.6012 - accuracy: 0.4818 - val_loss: 0.6117 - val_accuracy: 0.4742\n",
      "Epoch 27/500\n",
      "518/518 [==============================] - 3s 5ms/step - loss: 0.6004 - accuracy: 0.4810 - val_loss: 0.6073 - val_accuracy: 0.4655\n",
      "Epoch 28/500\n",
      "518/518 [==============================] - 3s 6ms/step - loss: 0.6012 - accuracy: 0.4815 - val_loss: 0.6071 - val_accuracy: 0.4643\n",
      "Epoch 29/500\n",
      "518/518 [==============================] - 3s 6ms/step - loss: 0.6016 - accuracy: 0.4785 - val_loss: 0.7640 - val_accuracy: 0.4604\n",
      "Epoch 30/500\n",
      "518/518 [==============================] - 3s 6ms/step - loss: 0.6010 - accuracy: 0.4789 - val_loss: 0.6031 - val_accuracy: 0.4763\n",
      "Epoch 31/500\n",
      "518/518 [==============================] - 3s 6ms/step - loss: 0.6008 - accuracy: 0.4826 - val_loss: 0.6260 - val_accuracy: 0.4563\n",
      "Epoch 32/500\n",
      "518/518 [==============================] - 3s 5ms/step - loss: 0.5999 - accuracy: 0.4832 - val_loss: 0.6077 - val_accuracy: 0.4710\n",
      "Epoch 33/500\n",
      "518/518 [==============================] - 3s 6ms/step - loss: 0.6007 - accuracy: 0.4804 - val_loss: 0.6060 - val_accuracy: 0.4763\n",
      "Epoch 34/500\n",
      "518/518 [==============================] - 3s 6ms/step - loss: 0.6010 - accuracy: 0.4824 - val_loss: 0.6118 - val_accuracy: 0.4667\n",
      "Epoch 35/500\n",
      "518/518 [==============================] - 3s 6ms/step - loss: 0.6010 - accuracy: 0.4820 - val_loss: 0.6092 - val_accuracy: 0.4672\n"
     ]
    }
   ],
   "source": [
    "lr_schedule = tensorflow.keras.optimizers.schedules.ExponentialDecay(\n",
    "    initial_learning_rate=1e-2,\n",
    "    decay_steps=10000,\n",
    "    decay_rate=0.9)\n",
    "\n",
    "optimizer = tensorflow.keras.optimizers.Adam(learning_rate=lr_schedule)\n",
    "\n",
    "model = Sequential()\n",
    "\n",
    "model.add(Dense(500, activation = 'relu', input_shape = input_shape))\n",
    "model.add(BatchNormalization())\n",
    "model.add(Dense(500, activation = 'relu'))\n",
    "model.add(BatchNormalization())\n",
    "model.add(Dense(250, activation = 'relu'))\n",
    "model.add(BatchNormalization())\n",
    "model.add(Dense(100, activation = 'relu'))\n",
    "model.add(BatchNormalization())\n",
    "model.add(Dense(3, activation='sigmoid'))\n",
    "\n",
    "early_stopping = EarlyStopping(monitor = 'val_accuracy', patience = 15)\n",
    "\n",
    "model.compile(optimizer = optimizer, loss = 'binary_crossentropy', metrics=['accuracy'])\n",
    "hist = model.fit(X_train, y_train,\n",
    "                 validation_split = 0.2,\n",
    "                 epochs = 500,\n",
    "                 callbacks = [early_stopping]\n",
    "                )"
   ]
  },
  {
   "cell_type": "code",
   "execution_count": 13,
   "metadata": {},
   "outputs": [
    {
     "name": "stdout",
     "output_type": "stream",
     "text": [
      "162/162 [==============================] - 0s 2ms/step - loss: 0.6089 - accuracy: 0.4700\n"
     ]
    }
   ],
   "source": [
    "result = model.evaluate(X_test, y_test)"
   ]
  },
  {
   "cell_type": "code",
   "execution_count": 14,
   "metadata": {},
   "outputs": [
    {
     "data": {
      "text/plain": [
       "<matplotlib.legend.Legend at 0x1b5e501d510>"
      ]
     },
     "execution_count": 14,
     "metadata": {},
     "output_type": "execute_result"
    },
    {
     "data": {
      "image/png": "[encoded data removed]",
      "text/plain": [
       "<Figure size 640x480 with 1 Axes>"
      ]
     },
     "metadata": {},
     "output_type": "display_data"
    }
   ],
   "source": [
    "plt.plot(np.sqrt(hist.history['accuracy']), 'r', label='Training accuracy')\n",
    "plt.plot(np.sqrt(hist.history['val_accuracy']), 'b', label='val_accuracy')\n",
    "plt.xlabel('Epochs')\n",
    "plt.ylabel('Validation Loss')\n",
    "plt.legend()"
   ]
  },
  {
   "cell_type": "code",
   "execution_count": 15,
   "metadata": {},
   "outputs": [
    {
     "name": "stdout",
     "output_type": "stream",
     "text": [
      "[0.448502779006958, 0.47542864084243774, 0.4751267731189728, 0.4778435230255127, 0.4781453609466553, 0.4787490963935852, 0.47730016708374023, 0.4812847077846527, 0.4808621108531952, 0.47886982560157776, 0.47820574045181274, 0.47754165530204773, 0.4798961579799652, 0.4777831435203552, 0.4803791344165802, 0.4762738347053528, 0.48098284006118774, 0.48140546679496765, 0.4815865755081177, 0.4801376461982727, 0.48092249035835266, 0.4769379496574402, 0.48116397857666016, 0.48255252838134766, 0.47983577847480774, 0.4817676842212677, 0.4810432195663452, 0.48146581649780273, 0.4785076081752777, 0.47886982560157776, 0.4826129078865051, 0.4831562340259552, 0.4803791344165802, 0.4824317693710327, 0.4820091724395752]\n",
      "0.4831562340259552\n"
     ]
    }
   ],
   "source": [
    "print(hist.history['accuracy'])\n",
    "best_score = max(hist.history['accuracy'])\n",
    "# best_score2 = min(hist.history['val_loss'])\n",
    "print(best_score)"
   ]
  },
  {
   "cell_type": "code",
   "execution_count": 16,
   "metadata": {},
   "outputs": [
    {
     "name": "stdout",
     "output_type": "stream",
     "text": [
      "162/162 [==============================] - 0s 2ms/step\n"
     ]
    }
   ],
   "source": [
    "predictions = model.predict(X_test)\n",
    "import numpy as np\n",
    "predicted_classes = np.argmax(predictions, axis=1)\n",
    "y_test_classes = np.argmax(y_test, axis=1)"
   ]
  },
  {
   "cell_type": "code",
   "execution_count": 28,
   "metadata": {},
   "outputs": [
    {
     "data": {
      "text/plain": [
       "array([0, 0, 0, ..., 0, 0, 0], dtype=int64)"
      ]
     },
     "execution_count": 28,
     "metadata": {},
     "output_type": "execute_result"
    }
   ],
   "source": [
    "predicted_classes"
   ]
  },
  {
   "cell_type": "code",
   "execution_count": 18,
   "metadata": {},
   "outputs": [
    {
     "name": "stdout",
     "output_type": "stream",
     "text": [
      "39.9 %\n",
      "28.06 %\n",
      "32.05 %\n",
      "0\n",
      "2\n",
      "xHomePoss                 58.34\n",
      "xAwayPoss                 41.66\n",
      "xHomeShots                15.65\n",
      "xAwayShots                 9.78\n",
      "xHomeSonT                  5.39\n",
      "xAwaySonT                  3.45\n",
      "xHomeSoffT                10.26\n",
      "xAwaySoffT                 6.33\n",
      "xHomeBS                    4.33\n",
      "xAwayBS                    2.55\n",
      "xHomeCor                   6.08\n",
      "xAwayCor                   4.61\n",
      "xHomeOff                   1.58\n",
      "xAwayOff                   1.70\n",
      "xHomeFoul                 12.01\n",
      "xAwayFoul                 12.76\n",
      "xHomeYellow                1.98\n",
      "xAwayYellow                1.54\n",
      "xHomeRed                   0.02\n",
      "xAwayRed                   0.03\n",
      "xHomePass                489.42\n",
      "xAwayPass                358.33\n",
      "xHomeAccPass             398.52\n",
      "xAwayAccPass             259.98\n",
      "xHomePassOff             161.75\n",
      "xAwayPassOff             101.31\n",
      "xHomeAccLongB             26.16\n",
      "xAwayAccLongB             26.40\n",
      "xHomeAccLongBpercent      50.05\n",
      "xAwayAccLongBpercent      43.39\n",
      "xHomeAccCross              6.63\n",
      "xAwayAccCross              3.82\n",
      "xHomeAccCrosspercent      24.87\n",
      "xAwayAccCrosspercent      28.45\n",
      "xHomeSuccDribb             6.06\n",
      "xAwaySuccDribb             6.55\n",
      "xHomeSuccDribbpercent     49.45\n",
      "xAwaySuccDribbpercent     50.81\n",
      "xHomeDuelsW               53.16\n",
      "xAwayDuelsW               54.79\n",
      "xHomeTackW                 7.12\n",
      "xAwayTackW                 8.09\n",
      "xHomeTackWpercent         51.97\n",
      "xAwayTackWpercent         57.96\n",
      "xHomeInt                   9.81\n",
      "xAwayInt                   8.89\n",
      "xHomeClear                18.37\n",
      "xAwayClear                27.61\n",
      "Name: 22951, dtype: float64\n"
     ]
    }
   ],
   "source": [
    "game = 700\n",
    "# print(round(predictions[game][0]*100,2),\"%\")\n",
    "# print(round(predictions[game][1]*100,2),\"%\")\n",
    "# print(round(predictions[game][2]*100,2),\"%\")\n",
    "total_value = round(predictions[game][0]*100,2) + round(predictions[game][1]*100,2) + round(predictions[game][2]*100,2)\n",
    "print(round(predictions[game][0]*10000 / total_value,2),\"%\")\n",
    "print(round(predictions[game][1]*10000 / total_value,2),\"%\")\n",
    "print(round(predictions[game][2]*10000 / total_value,2),\"%\")\n",
    "# print(round(predictions[game][0]*10000 / total_value,2) + round(predictions[game][1]*100 / total_value,2) + round(predictions[game][2]*100 / total_value,2))\n",
    "print(predicted_classes[game])\n",
    "print(y_test_classes[game])\n",
    "print(X_test.iloc[game])\n"
   ]
  },
  {
   "cell_type": "code",
   "execution_count": 19,
   "metadata": {},
   "outputs": [
    {
     "name": "stderr",
     "output_type": "stream",
     "text": [
      "c:\\Users\\simon\\AppData\\Local\\Programs\\Python\\Python310\\lib\\site-packages\\keras\\src\\engine\\training.py:3000: UserWarning: You are saving your model as an HDF5 file via `model.save()`. This file format is considered legacy. We recommend using instead the native Keras format, e.g. `model.save('my_model.keras')`.\n",
      "  saving_api.save_model(\n"
     ]
    }
   ],
   "source": [
    "model.save('football_predict_test.h5')"
   ]
  },
  {
   "cell_type": "code",
   "execution_count": 20,
   "metadata": {},
   "outputs": [],
   "source": [
    "import matplotlib.pyplot as plt\n",
    "from sklearn.metrics import confusion_matrix, ConfusionMatrixDisplay\n"
   ]
  },
  {
   "cell_type": "code",
   "execution_count": 21,
   "metadata": {},
   "outputs": [
    {
     "data": {
      "text/plain": [
       "<sklearn.metrics._plot.confusion_matrix.ConfusionMatrixDisplay at 0x1b5e43271c0>"
      ]
     },
     "execution_count": 21,
     "metadata": {},
     "output_type": "execute_result"
    },
    {
     "data": {
      "image/png": "[encoded data removed]",
      "text/plain": [
       "<Figure size 640x480 with 2 Axes>"
      ]
     },
     "metadata": {},
     "output_type": "display_data"
    }
   ],
   "source": [
    "result = confusion_matrix(y_test_classes, predicted_classes)\n",
    "disp = ConfusionMatrixDisplay(result)\n",
    "disp.plot()"
   ]
  },
  {
   "cell_type": "code",
   "execution_count": 22,
   "metadata": {},
   "outputs": [],
   "source": [
    "# import keras_tuner\n",
    "# from tensorflow import keras"
   ]
  },
  {
   "cell_type": "code",
   "execution_count": 23,
   "metadata": {},
   "outputs": [],
   "source": [
    "# def build_model(hp):\n",
    "#     model2 = Sequential()\n",
    "#     model2.add(Dense(\n",
    "#         hp.Choice('units', [100, 150, 200, 250]),\n",
    "#         activation = 'relu'))\n",
    "#     model2.add(BatchNormalization())\n",
    "#     model2.add(Dense(\n",
    "#         hp.Choice('units', [100, 150, 200, 250]),\n",
    "#         activation = 'relu'))\n",
    "#     model2.add(BatchNormalization())\n",
    "#     model2.add(Dense(\n",
    "#         hp.Choice('units', [100, 150, 200, 250]),\n",
    "#         activation = 'relu'))\n",
    "#     model2.add(BatchNormalization())\n",
    "#     model2.add(Dense(1))\n",
    "#     model2.compile(optimizer = 'adam', loss = 'mean_squared_error', metrics = ['mean_squared_error'])\n",
    "#     return model2"
   ]
  },
  {
   "cell_type": "code",
   "execution_count": 24,
   "metadata": {},
   "outputs": [],
   "source": [
    "# tuner = keras_tuner.RandomSearch(\n",
    "#     build_model,\n",
    "#     objective='val_loss',\n",
    "#     max_trials = 100)"
   ]
  },
  {
   "cell_type": "code",
   "execution_count": 25,
   "metadata": {},
   "outputs": [],
   "source": [
    "# tuner.search(X_train, y_train, validation_split = 0.2)\n",
    "# best_model = tuner.get_best_models(num_models=1)[0]"
   ]
  },
  {
   "cell_type": "code",
   "execution_count": 26,
   "metadata": {},
   "outputs": [],
   "source": [
    "# predictions = best_model.predict(X_test)\n",
    "# import numpy as np\n",
    "# predicted_classes = np.argmax(predictions, axis=1)\n",
    "# y_test_classes = np.argmax(y_test, axis=1)"
   ]
  },
  {
   "cell_type": "code",
   "execution_count": null,
   "metadata": {},
   "outputs": [],
   "source": []
  }
 ],
 "metadata": {
  "kernelspec": {
   "display_name": "Python 3",
   "language": "python",
   "name": "python3"
  },
  "language_info": {
   "codemirror_mode": {
    "name": "ipython",
    "version": 3
   },
   "file_extension": ".py",
   "mimetype": "text/x-python",
   "name": "python",
   "nbconvert_exporter": "python",
   "pygments_lexer": "ipython3",
   "version": "3.10.3"
  },
  "orig_nbformat": 4
 },
 "nbformat": 4,
 "nbformat_minor": 2
}
