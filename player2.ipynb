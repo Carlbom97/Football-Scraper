{
 "cells": [
  {
   "cell_type": "code",
   "execution_count": 3,
   "metadata": {},
   "outputs": [],
   "source": [
    "import requests\n",
    "import json"
   ]
  },
  {
   "cell_type": "code",
   "execution_count": 4,
   "metadata": {},
   "outputs": [],
   "source": [
    "match_url = \"https://www.fotmob.com/api/matchDetails?matchId=4084714\""
   ]
  },
  {
   "cell_type": "code",
   "execution_count": 5,
   "metadata": {},
   "outputs": [],
   "source": [
    "res = requests.get(match_url)\n",
    "jasondata = res.json()"
   ]
  },
  {
   "cell_type": "code",
   "execution_count": 17,
   "metadata": {},
   "outputs": [
    {
     "data": {
      "text/plain": [
       "{'id': '629065',\n",
       " 'positionId': 11,\n",
       " 'position': 'Keeper',\n",
       " 'positionStringShort': 'GK',\n",
       " 'localizedPosition': {'label': 'GK', 'key': 'keeper'},\n",
       " 'name': {'firstName': 'Tyler',\n",
       "  'lastName': 'Miller',\n",
       "  'fullName': 'Tyler Miller'},\n",
       " 'shirt': 1,\n",
       " 'usualPosition': 0,\n",
       " 'usingOptaId': False,\n",
       " 'teamId': '6602',\n",
       " 'imageUrl': 'https://images.fotmob.com/image_resources/playerimages/629065.png',\n",
       " 'pageUrl': '/players/629065/tyler-miller',\n",
       " 'isHomeTeam': True,\n",
       " 'timeSubbedOn': None,\n",
       " 'timeSubbedOff': None,\n",
       " 'positionRow': 0,\n",
       " 'role': 'Keeper',\n",
       " 'events': {},\n",
       " 'rating': {'num': '6.8',\n",
       "  'bgcolor': '#f08022',\n",
       "  'isTop': {'isTopRating': False, 'isMatchFinished': True}},\n",
       " 'fantasyScore': {'bgcolor': 'purple'},\n",
       " 'minutesPlayed': 90,\n",
       " 'shotmap': [],\n",
       " 'stats': [{'title': 'Top stats',\n",
       "   'stats': {'FotMob rating': 6.76,\n",
       "    'Minutes played': 90,\n",
       "    'Saves': 3,\n",
       "    'Goals conceded': 2,\n",
       "    'xGOT faced': '1.39',\n",
       "    'Accurate passes': '31/51 (61%)',\n",
       "    'Accurate long balls': '9/29 (31%)',\n",
       "    'Diving save': 0,\n",
       "    'Saves inside box': 3,\n",
       "    'Acted as sweeper': 0,\n",
       "    'Punches': 0,\n",
       "    'Throws': 3,\n",
       "    'High claim': 1,\n",
       "    'Recoveries': 8,\n",
       "    'Expected assists (xA)': '0.05',\n",
       "    'Touches': 62}}],\n",
       " 'teamData': {'home': {'id': 6602, 'color': '#000000'},\n",
       "  'away': {'id': 6602, 'color': '#002858'}}}"
      ]
     },
     "execution_count": 17,
     "metadata": {},
     "output_type": "execute_result"
    }
   ],
   "source": [
    "jasondata['content']['lineup']['lineup'][0]['players'][0][0]"
   ]
  },
  {
   "cell_type": "code",
   "execution_count": 7,
   "metadata": {},
   "outputs": [
    {
     "data": {
      "text/plain": [
       "'GK'"
      ]
     },
     "execution_count": 7,
     "metadata": {},
     "output_type": "execute_result"
    }
   ],
   "source": [
    "jasondata['content']['lineup']['lineup'][1]['players'][3][0]['positionStringShort']"
   ]
  },
  {
   "cell_type": "code",
   "execution_count": 8,
   "metadata": {},
   "outputs": [
    {
     "data": {
      "text/plain": [
       "90"
      ]
     },
     "execution_count": 8,
     "metadata": {},
     "output_type": "execute_result"
    }
   ],
   "source": [
    "jasondata['content']['lineup']['lineup'][1]['players'][3][0]['stats'][0]['stats']['Minutes played']"
   ]
  },
  {
   "cell_type": "code",
   "execution_count": 9,
   "metadata": {},
   "outputs": [
    {
     "data": {
      "text/plain": [
       "{'FotMob rating': 6.76,\n",
       " 'Minutes played': 90,\n",
       " 'Saves': 3,\n",
       " 'Goals conceded': 2,\n",
       " 'xGOT faced': '1.39',\n",
       " 'Accurate passes': '31/51 (61%)',\n",
       " 'Accurate long balls': '9/29 (31%)',\n",
       " 'Diving save': 0,\n",
       " 'Saves inside box': 3,\n",
       " 'Acted as sweeper': 0,\n",
       " 'Punches': 0,\n",
       " 'Throws': 3,\n",
       " 'High claim': 1,\n",
       " 'Recoveries': 8,\n",
       " 'Expected assists (xA)': '0.05',\n",
       " 'Touches': 62}"
      ]
     },
     "execution_count": 9,
     "metadata": {},
     "output_type": "execute_result"
    }
   ],
   "source": [
    "jasondata['content']['lineup']['lineup'][0]['players'][0][0]['stats'][0]['stats']"
   ]
  },
  {
   "cell_type": "code",
   "execution_count": 10,
   "metadata": {},
   "outputs": [
    {
     "data": {
      "text/plain": [
       "'Taxiarchis Fountas'"
      ]
     },
     "execution_count": 10,
     "metadata": {},
     "output_type": "execute_result"
    }
   ],
   "source": [
    "jasondata['content']['lineup']['lineup'][0]['bench'][0]['name']['fullName']"
   ]
  },
  {
   "cell_type": "code",
   "execution_count": 11,
   "metadata": {},
   "outputs": [
    {
     "data": {
      "text/plain": [
       "{'FotMob rating': 6.19,\n",
       " 'Minutes played': 12,\n",
       " 'Goals': 0,\n",
       " 'Assists': 0,\n",
       " 'Total shots': 0,\n",
       " 'Accurate passes': '2/4 (50%)',\n",
       " 'Chances created': 0}"
      ]
     },
     "execution_count": 11,
     "metadata": {},
     "output_type": "execute_result"
    }
   ],
   "source": [
    "jasondata['content']['lineup']['lineup'][1]['bench'][2]['stats'][0]['stats']"
   ]
  },
  {
   "cell_type": "code",
   "execution_count": 56,
   "metadata": {},
   "outputs": [
    {
     "data": {
      "text/plain": [
       "{'id': '307446',\n",
       " 'positionId': 0,\n",
       " 'position': 'Substitute',\n",
       " 'localizedPosition': None,\n",
       " 'name': {'firstName': 'Taxiarchis',\n",
       "  'lastName': 'Fountas',\n",
       "  'fullName': 'Taxiarchis Fountas'},\n",
       " 'shirt': 11,\n",
       " 'usualPosition': 2,\n",
       " 'usingOptaId': False,\n",
       " 'teamId': '6602',\n",
       " 'imageUrl': 'https://images.fotmob.com/image_resources/playerimages/307446.png',\n",
       " 'pageUrl': '/players/307446/taxiarchis-fountas',\n",
       " 'isHomeTeam': True,\n",
       " 'timeSubbedOn': 68,\n",
       " 'timeSubbedOff': None,\n",
       " 'positionRow': 0,\n",
       " 'role': 'Midfielder',\n",
       " 'events': {'sub': {'subbedIn': 68}},\n",
       " 'rating': {'num': '6.4',\n",
       "  'bgcolor': '#f08022',\n",
       "  'isTop': {'isTopRating': False, 'isMatchFinished': True}},\n",
       " 'fantasyScore': {'bgcolor': 'purple'},\n",
       " 'minutesPlayed': 22,\n",
       " 'shotmap': [{'id': 2524644319,\n",
       "   'eventType': 'AttemptSaved',\n",
       "   'teamId': 6602,\n",
       "   'playerId': 307446,\n",
       "   'playerName': 'Taxiarchis Fountas',\n",
       "   'x': 97.9561388780607,\n",
       "   'y': 21.336814755556432,\n",
       "   'min': 73,\n",
       "   'minAdded': None,\n",
       "   'isBlocked': False,\n",
       "   'isOnTarget': True,\n",
       "   'blockedX': 103.6724137932,\n",
       "   'blockedY': 30.797499999999996,\n",
       "   'goalCrossedY': 30.797499999999996,\n",
       "   'goalCrossedZ': 0.20547368320000003,\n",
       "   'expectedGoals': 0.039657119661569595,\n",
       "   'expectedGoalsOnTarget': 0.2294,\n",
       "   'shotType': 'RightFoot',\n",
       "   'situation': 'RegularPlay',\n",
       "   'period': 'SecondHalf',\n",
       "   'isOwnGoal': False,\n",
       "   'onGoalShot': {'x': 1.8472222222222223,\n",
       "    'y': 0.05435811724867726,\n",
       "    'zoomRatio': 1},\n",
       "   'teamColor': '#000000'},\n",
       "  {'id': 2524645133,\n",
       "   'eventType': 'AttemptSaved',\n",
       "   'teamId': 6602,\n",
       "   'playerId': 307446,\n",
       "   'playerName': 'Taxiarchis Fountas',\n",
       "   'x': 87.53382189112412,\n",
       "   'y': 44.98165818487426,\n",
       "   'min': 75,\n",
       "   'minAdded': None,\n",
       "   'isBlocked': False,\n",
       "   'isOnTarget': True,\n",
       "   'blockedX': 102.9137931036,\n",
       "   'blockedY': 35.3725,\n",
       "   'goalCrossedY': 33.5425,\n",
       "   'goalCrossedZ': 0.1219999994,\n",
       "   'expectedGoals': 0.047557681798934937,\n",
       "   'expectedGoalsOnTarget': 0.0375,\n",
       "   'shotType': 'LeftFoot',\n",
       "   'situation': 'RegularPlay',\n",
       "   'period': 'SecondHalf',\n",
       "   'isOwnGoal': False,\n",
       "   'onGoalShot': {'x': 1.121031746031747,\n",
       "    'y': 0.032275132116402115,\n",
       "    'zoomRatio': 1},\n",
       "   'teamColor': '#000000'}],\n",
       " 'stats': [{'title': 'Top stats',\n",
       "   'stats': {'FotMob rating': 6.4,\n",
       "    'Minutes played': 22,\n",
       "    'Goals': 0,\n",
       "    'Assists': 0,\n",
       "    'Total shots': 2,\n",
       "    'Shotmap': True,\n",
       "    'Accurate passes': '8/9 (89%)',\n",
       "    'Chances created': 0,\n",
       "    'Expected goals (xG)': '0.09',\n",
       "    'Expected goals on target (xGOT)': '0.27',\n",
       "    'Expected assists (xA)': '0.03'}},\n",
       "  {'title': 'Attack',\n",
       "   'stats': {'Shot accuracy': '2/2 (100%)',\n",
       "    'Touches': 13,\n",
       "    'Accurate long balls': '1/1 (100%)',\n",
       "    'Dispossessed': 0}},\n",
       "  {'title': 'Defence', 'stats': {'Tackles won': '1/1 (100%)'}},\n",
       "  {'title': 'Duels',\n",
       "   'stats': {'Ground duels won': '1/1 (100%)',\n",
       "    'Aerial duels won': 0,\n",
       "    'Was fouled': 0,\n",
       "    'Fouls committed': 0}}],\n",
       " 'teamData': {'home': {'id': 6602, 'color': '#000000'},\n",
       "  'away': {'id': 6602, 'color': '#002858'}}}"
      ]
     },
     "execution_count": 56,
     "metadata": {},
     "output_type": "execute_result"
    }
   ],
   "source": [
    "jasondata['content']['lineup']['bench']['benchArr'][0][0]"
   ]
  },
  {
   "cell_type": "code",
   "execution_count": 33,
   "metadata": {},
   "outputs": [
    {
     "data": {
      "text/plain": [
       "'Goal'"
      ]
     },
     "execution_count": 33,
     "metadata": {},
     "output_type": "execute_result"
    }
   ],
   "source": [
    "jasondata['content']['matchFacts']['events']['events'][0]['type']"
   ]
  },
  {
   "cell_type": "code",
   "execution_count": 40,
   "metadata": {},
   "outputs": [
    {
     "data": {
      "text/plain": [
       "'2023-03-25'"
      ]
     },
     "execution_count": 40,
     "metadata": {},
     "output_type": "execute_result"
    }
   ],
   "source": [
    "jasondata['general']['matchTimeUTCDate'].split('T')[0]"
   ]
  },
  {
   "cell_type": "code",
   "execution_count": 55,
   "metadata": {},
   "outputs": [
    {
     "data": {
      "text/plain": [
       "0"
      ]
     },
     "execution_count": 55,
     "metadata": {},
     "output_type": "execute_result"
    }
   ],
   "source": [
    "jasondata['content']['lineup']['bench']['benchArr'][0][0]['stats'][0]['stats']['Assists']"
   ]
  },
  {
   "cell_type": "code",
   "execution_count": 57,
   "metadata": {},
   "outputs": [
    {
     "data": {
      "text/plain": [
       "{'id': '629065',\n",
       " 'positionId': 11,\n",
       " 'position': 'Keeper',\n",
       " 'positionStringShort': 'GK',\n",
       " 'localizedPosition': {'label': 'GK', 'key': 'keeper'},\n",
       " 'name': {'firstName': 'Tyler',\n",
       "  'lastName': 'Miller',\n",
       "  'fullName': 'Tyler Miller'},\n",
       " 'shirt': 1,\n",
       " 'usualPosition': 0,\n",
       " 'usingOptaId': False,\n",
       " 'teamId': '6602',\n",
       " 'imageUrl': 'https://images.fotmob.com/image_resources/playerimages/629065.png',\n",
       " 'pageUrl': '/players/629065/tyler-miller',\n",
       " 'isHomeTeam': True,\n",
       " 'timeSubbedOn': None,\n",
       " 'timeSubbedOff': None,\n",
       " 'positionRow': 0,\n",
       " 'role': 'Keeper',\n",
       " 'events': {},\n",
       " 'rating': {'num': '6.8',\n",
       "  'bgcolor': '#f08022',\n",
       "  'isTop': {'isTopRating': False, 'isMatchFinished': True}},\n",
       " 'fantasyScore': {'bgcolor': 'purple'},\n",
       " 'minutesPlayed': 90,\n",
       " 'shotmap': [],\n",
       " 'stats': [{'title': 'Top stats',\n",
       "   'stats': {'FotMob rating': 6.76,\n",
       "    'Minutes played': 90,\n",
       "    'Saves': 3,\n",
       "    'Goals conceded': 2,\n",
       "    'xGOT faced': '1.39',\n",
       "    'Accurate passes': '31/51 (61%)',\n",
       "    'Accurate long balls': '9/29 (31%)',\n",
       "    'Diving save': 0,\n",
       "    'Saves inside box': 3,\n",
       "    'Acted as sweeper': 0,\n",
       "    'Punches': 0,\n",
       "    'Throws': 3,\n",
       "    'High claim': 1,\n",
       "    'Recoveries': 8,\n",
       "    'Expected assists (xA)': '0.05',\n",
       "    'Touches': 62}}],\n",
       " 'teamData': {'home': {'id': 6602, 'color': '#000000'},\n",
       "  'away': {'id': 6602, 'color': '#002858'}}}"
      ]
     },
     "execution_count": 57,
     "metadata": {},
     "output_type": "execute_result"
    }
   ],
   "source": [
    "jasondata['content']['lineup']['lineup'][0]['players'][0][0]"
   ]
  },
  {
   "cell_type": "code",
   "execution_count": null,
   "metadata": {},
   "outputs": [],
   "source": []
  }
 ],
 "metadata": {
  "kernelspec": {
   "display_name": "Python 3",
   "language": "python",
   "name": "python3"
  },
  "language_info": {
   "codemirror_mode": {
    "name": "ipython",
    "version": 3
   },
   "file_extension": ".py",
   "mimetype": "text/x-python",
   "name": "python",
   "nbconvert_exporter": "python",
   "pygments_lexer": "ipython3",
   "version": "3.10.3"
  },
  "orig_nbformat": 4,
  "vscode": {
   "interpreter": {
    "hash": "7101ca937a6cefa303d920fd1335fe82956cc294edbf5f7bc268a5a56c54bb64"
   }
  }
 },
 "nbformat": 4,
 "nbformat_minor": 2
}
